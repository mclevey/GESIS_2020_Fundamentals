{
 "cells": [
  {
   "cell_type": "markdown",
   "metadata": {},
   "source": [
    "# FUNDAMENTALS OF DATA ANALYSIS WITH PYTHON <br><font color=\"crimson\">DAY 4: DATA VISUALIZATION</font>\n",
    "\n",
    "49th [GESIS Spring Seminar: Digital Behavioral Data](https://training.gesis.org/?site=pDetails&pID=0xA33E4024A2554302B3EF4AECFC3484FD)   \n",
    "Cologne, Germany, March 2-6 2010\n",
    "\n",
    "## Course Developers and Instructors \n",
    "\n",
    "* Dr. [John McLevey](www.johnmclevey.com), University of Waterloo (john.mclevey@uwaterloo.ca)     \n",
    "* [Jillian Anderson](https://ca.linkedin.com/in/jillian-anderson-34435714a?challengeId=AQGaFXECVnyVqAAAAW_TLnwJ9VHAlBfinArnfKV6DqlEBpTIolp6O2Bau4MmjzZNgXlHqEIpS5piD4nNjEy0wsqNo-aZGkj57A&submissionId=16582ced-1f90-ec15-cddf-eb876f4fe004), Simon Fraser University (jillianderson8@gmail.com) \n",
    "\n",
    "<hr>\n",
    "\n",
    "## <i class=\"fa fa-tasks\"></i> LEARNING OBJECTIVES\n",
    "\n",
    "By the end of the day, you should be able to: \n",
    "\n",
    "1. Explain why considerations about human perception are essential to producing good graphics \n",
    "2. Understand the difference between aesthetic, substantive, and perceptual problems with graphics \n",
    "3. Describe the pros and cons of different approaches to encoding quantitative information with visual elements, such as points, lines, shapes, and colour (luminance, hue, and vibrancy)\n",
    "4. Make defensible decisions about what kinds of graphs to produce, and how to design the lower-level components of graphs\n",
    "5. Adopt a \"design thinking\" approach to visualization that emphasizes the effective communication of specific messages to specific audiences (think *what* you are trying to communicate to *whom* and *for what purpose*)\n",
    "6. Translate these more conceptual issues into actual visualizations, produced with `matplotlib` and `seaborn`\n",
    "7. Produce and modify the following common types of graphs: \n",
    "    * Bar graphs + Cleveland dot plots \n",
    "    * Histograms + kernel density estimates \n",
    "    * Boxplots + dot and whisker plots \n",
    "    * Scatterplots \n",
    "    * Time series \n",
    "    * Add text and other annotations to plots \n",
    "    * Pair plots and other small multiples\n",
    "    * Model-based visualizations   \n",
    "8. Save visualizations in formats that are appropriate for the web or for print\n",
    "\n",
    "Learning objectives 1-5 are, of course, independent of the tools you use to develop your visualizations. They are, in many respects, the most important. However, given the nature of this course we will only introduce them briefly and then move on to the practical matter of designing, coding, and improving visualizations in Python. We will spend most of our time on objectives 6 - 8. \n",
    "\n",
    "## <i class=\"fa fa-map-o\"></i> PLAN FOR THE DAY\n",
    "\n",
    "<i class=\"fa fa-location-arrow\"></i> [Principles and best practices](#prin)      \n",
    "<i class=\"fa fa-location-arrow\"></i> [Design thinking for effective visualization](#design)     \n",
    "<i class=\"fa fa-location-arrow\"></i> [`matplotlib` and `pyplot`](#mpl)     \n",
    "<i class=\"fa fa-location-arrow\"></i> [Counts, ranks, and distributions](#crd)     \n",
    "<i class=\"fa fa-location-arrow\"></i> [Relationships](#relationships)     \n",
    "<i class=\"fa fa-location-arrow\"></i> [Time series](#time)     \n",
    "<i class=\"fa fa-location-arrow\"></i> [Small multiples](#multiples)     \n",
    "<i class=\"fa fa-location-arrow\"></i> [Annotations](#annotations)     \n",
    "<i class=\"fa fa-location-arrow\"></i> [Refining and saving plots for publication](#publication)     \n",
    "\n",
    "<hr>"
   ]
  },
  {
   "cell_type": "markdown",
   "metadata": {},
   "source": [
    "# <i class=\"fa fa-terminal\"></i> PACKAGES & DATASETS \n",
    "\n",
    "Most of what we will do today makes heavy use of `pandas`, `matplotlib`, and `seaborn`. "
   ]
  },
  {
   "cell_type": "code",
   "execution_count": null,
   "metadata": {},
   "outputs": [],
   "source": [
    "import os\n",
    "import pandas as pd\n",
    "import numpy as np\n",
    "\n",
    "import seaborn as sns\n",
    "import matplotlib.pyplot as plt"
   ]
  },
  {
   "cell_type": "markdown",
   "metadata": {},
   "source": [
    "As you will learn towards the end of the session, there is an important distinction between \"raster\" graphics and \"vector\" graphics. By default, Jupyter will display low resolution raster graphics because the file sizes are small, so load quickly in our browsers. The downside is that they look *terrible*. Instead, we will use the line `%config InlineBackend.figure_format = 'svg'` to force Jupyter to display our graphs as `svg`s. *This has no impact on how graphs look when they are written to disk*. Regardless of the way graphs are displayed inside the Jupyter notebook, we will learn how to save high quality graphs for publication at the end of the notebook.  "
   ]
  },
  {
   "cell_type": "code",
   "execution_count": null,
   "metadata": {},
   "outputs": [],
   "source": [
    "%config InlineBackend.figure_format = 'svg' # better resolution with vector graphics! "
   ]
  },
  {
   "cell_type": "markdown",
   "metadata": {},
   "source": [
    "As before, we will use the Russian Troll Tweets dataset. We will pull a random sample of 5,000 observations (Tweets). We will go back and forth between the full dataset and the sampled dataset in this notebook. Most of the time we will use the sample, as it allows us to work faster and reduces problems such as overplotting. "
   ]
  },
  {
   "cell_type": "code",
   "execution_count": null,
   "metadata": {},
   "outputs": [],
   "source": [
    "data_dir = os.listdir('data/russian-troll-tweets')\n",
    "\n",
    "files = [f for f in data_dir if 'csv' in f]\n",
    "df = pd.concat((pd.read_csv('data/russian-troll-tweets/{}'.format(f), encoding='utf-8', low_memory=False) for f in files))\n",
    "df.info()"
   ]
  },
  {
   "cell_type": "code",
   "execution_count": null,
   "metadata": {},
   "outputs": [],
   "source": [
    "sampled = df.sample(5000) # we will pull a random sampling to help with overplotting and to avoid slowing down the browser"
   ]
  },
  {
   "cell_type": "markdown",
   "metadata": {},
   "source": [
    "# <i class=\"fa fa-location-arrow\"></i> PRINCIPLES & BEST PRACTICES <a id='prin'></a>\n",
    "\n",
    "Like other types of data analysis, effective data visualization requires adopting an iterative approach. This iterative approach should always be guided by a fairly general set of principles and best practices. A full discussion of those principles and best practices is beyond the scope of this course, but we will briefly present some of the most important considerations here. In our experience, the best way to start is by thinking carefully about what you want to learn about your data (if you're doing exploratory data analysis), or what you want to communicate (if you're producing a graph for publication).  \n",
    "\n",
    "First, though it might seem obvious, it is easy to forget that there are many ways to visualize patterns in our data and that some ways are better than others. What makes any particular visualization better than another? \n",
    "\n",
    "As Kieran Healy points out, \"bad graphs\" tend to be bad for one of three reasons:\n",
    "\n",
    "1. **Aesthetics**: there are a lot of unnecessary details or modifications, usually done in poor taste (e.g. unnecessary 3D effects, shadows, rotated axes, etc.). These \"infographic\" approaches to visualization may be more memorable but are extremely difficult to interpret correctly.   \n",
    "2. **Substantive data problems**: the graph *looks* good and follows best practices, but the data themselves are bad or have been incorrectly processed, sending a misleading message.\n",
    "3. **Being inattentive to the realities of human perception**, and therefore making poor visualization choices that may mislead you or your readers. \n",
    "\n",
    "> \"Visualization encodes numbers in lines, shapes, and colours. That means our interpretation of these encodings is partly conditional on how we perceive geometric shapes and relationships generally. We have known for a long time that poorly encoded data can be misleading.\" \n",
    ">\n",
    "> Kieran Healy (2018) *Data Visualization*, page 11. \n",
    "\n",
    "It is *essential* to keep in mind realities about how **perception** and the **human vision system** work. Perception is far more complicated than simply creating a 1:1 mental representation of what we are looking at. To appreciate this reality, think of the many examples of visual effects and optical illusions. \n",
    "\n",
    "Perhaps the most fundamental issue is that we have an easier time perceiving some colours, shapes, and relationships than others. As a result, some visualizations -- such as pie charts, tree maps, and stacked bar charts -- are total non-starters. You should avoid using them at all costs. But even setting aside these extreme examples of bad graphs, knowledge of perception and vision can help you make visualization decisions that reduce the risk of fooling yourself and other people. We will discuss some of these factors shortly. \n",
    "\n",
    "A second and related factor is that we have a tendency to see structure and patterns in data even when those patterns are not in fact meaningful. For this reason, it is usually a mistake to rely on visualization techniques without simultaneously doing some sort of statistical modelling (*just as it is a mistake to model your data without visualizing it*). Statistical modelling is beyond the scope of this course but we want to be very clear that it is best to pursue these two types of analysis simultaneously. \n",
    "\n",
    "There is a sizeable empirical literature on perception and statistical visualization. For the most part, this literature builds on Bill Cleveland's groundbreaking work in the 1980s and 1990s. Psychologists, statisticians, and applied data analysts have documented many specific factors that increase or decrease the probability of drawing an incorrect conclusion from a graph. These include: \n",
    "\n",
    "* Selecting the wrong colour palette increases the chance of misperception (e.g. it is diverging when it should be qualitative, it is not colour-blind friendly, etc.) \n",
    "* Using area or angles to represent important properties increases the chance of misperception because humans are inherently bad at comparing minor differences in angle and area to modest ones). \n",
    "* Using length and position increase the chance of *correct* perceptions because humans are very good at comparing differences in length and position. When designing visualizations, think of length and position first. \n",
    "\n",
    "There are many other things to consider but for now, we offer the following *strong opinions* about visualizing data. \n",
    "\n",
    "Never use pie charts for any reason whatsoever, as the combination of angles, area, and a non-linear axis make it *extremely* likely that a reader will interpret your graph incorrectly. \n",
    "\n",
    "Avoid tree maps, stacked bar charts, bubble charts, and other similar plots that require comparing areas. The issue with stacked bar charts is that each block has a different baseline / starting point in each bar. Given how bad we are at comparing area, this makes it far more likely that your reader will interpret your graph incorrectly. The issue with bubble charts is slightly more complex. Sometimes it *can* be effective to change the size of nodes in a scatterplot but you should be very careful when you do this and you should not expect a reader to perceive relatively small differences in the area of any given pair of points.\n",
    "\n",
    "*Most of the time*, bar graphs and dot plots should have a $y$-axis that starts at 0 but *contrary to common wisdom*, there are some **rare** cases when this is not the best choice. Default to axes that start at 0 but don't be too ideological about this. Again, know exactly what you want to show and why. If you want to be instantly discredited by a quantitatively-literate reader, exaggerate differences between the observations by manipulating the range of the y-axis. *Don't do this!* 🤨\n",
    "\n",
    "If you are comparing distributions or counts in a small multiples visualization, you should have each small plot share $x$ and $y$ axes with the other small plots. \n",
    "\n",
    "In general, less ink is better than more ink. Simplify as much as possible, but no more. \n",
    "\n",
    "Resist the temptation to use 3D effects on all graphs, including scatterplots. \n",
    "\n",
    "If you have to add a third dimension to a graph, consider using either colour or shape. It is almost never useful to use both at the same time. \n",
    "\n",
    "\n",
    "The dimensions -- or aspect ratio -- of a line plot have a *huge* effect on our perception of slope / rate of change. Exercise extreme care, and above all do not intentionally mislead your readers. \n",
    "\n",
    "Do not vary colour or shape unless you are encoding values in colours and shapes. For example, if you assign the bars in a bar plot different colours and the differences in colour are not meaningful, they might look good but increase the chances of misperception. Resist the temptation! \n",
    "\n",
    "Avoid the temptation to make manual modifications to graphs. For the sake of reproducibility and transparency, you should do *everything* programatically. `matplotlib` makes this possible. \n",
    "\n",
    "Finally, if possible, ask other people to critique your visualizations. It can take some time to develop a reliable style that balances information density and visual minimalism, while reducing the chances of misperception. Our recommendation is that you do this by adopting a \"design thinking\" approach to data visualization. \n",
    "\n",
    "\n",
    "# <i class=\"fa fa-location-arrow\"></i> DESIGN THINKING FOR EFFECTIVE VISUALIZATION <a id='design'></a>\n",
    "\n",
    "Simply knowing about cognitive biases, vision effects, and optical illusions does not make us less susceptible to them, because we do not have that kind of conscious control over our visual system and neurological processes. So what can we do to mitigate their effects? \n",
    "\n",
    "We recommend that you take a \"design thinking\" approach to creating visualizations. There are many design thinking frameworks and in theory they are all equally relevant. All we really mean here is that, like any other type of designer, you should (1) always know what problem you are trying to solve, (2) embrace an iterative approach to improving your design, (3) explicitly put yourself in the position of your reader, and (4) prioritize clear and effective communication. \n",
    "\n",
    "Finally, empirical research on perception and statistical visualizations suggests that the vast majority of people draw incorrect conclusions from most types of graphs. Yes, this is a depressing reality. 🙁 We think this is even more reason to adopt an explicit design thinking approach. When you intentionally adopt the perspective of a reader, you should assume they will make at least some mistakes when interpreting your graph. What can you do to make the message as clear and accurate as possible? *What **exactly** do you want a reader to know about your data?* \n",
    "\n",
    "We will conclude this section with one final quote from Kieran Healy (2018) *Data Visualization*: \n",
    "\n",
    "> \"“[B]ear in mind that these different channels or mappings for data [e.g. lines, shapes, colours] are not in themselves kinds of graphs. They are just the elements or building blocks for graphs. When we choose to encode a variable as a position, a length, an area, a shade of grey, or a colour, we have made an important decision that narrows down what the resulting plot can look like. But this is not the same as deciding what type of plot it will be, in the sense of choosing whether to make a dot plot or a bar chart, a histogram or a frequency polygon, and so on.\"\"\n",
    "> \n",
    "> Kieran Healy (2018) *Data Visualization*, page 27. "
   ]
  },
  {
   "cell_type": "markdown",
   "metadata": {},
   "source": [
    "# <i class=\"fa fa-location-arrow\"></i> `matplotlib`, `pyplot`, and `seaborn` <a id='mpl'></a>\n",
    "\n",
    "The main visualization package in Python is `matplotlib`. `matplotlib` itself provides an *enormous* amount of power to the researcher and has a well-earned reputation for complexity. Entire books have been written on the architecture of `matplotlib`. \n",
    "\n",
    "The good news is that it is possible to produce extremely high-quality visualizations without having to learn all there is to know about `matplotlib`. In fact, the vast majority of visualizations you would want to produce in a research context can be produced using `pyplot` and `seaborn`, which sit on top of `matplotlib` and make it as easy as possible to produce all common statistical visualizations. `matplotlib`, `pyplot` and `seaborn` code can all be mixed together to produce visualizations, which makes it possible to customize your plots in almost any way you can imagine. And if you really want to do something unusual, `matplotlib` can handle it -- you just need to learn more about its architecture. \n",
    "\n",
    "In this notebook, nearly all plots will be constructed with `pyplot`, which we imported earlier as `plt`. In some cases, we will also draw on `seaborn`, which we imported as `sns`. \n",
    "\n",
    "## Anatomy of a Figure\n",
    "\n",
    "Below, we will always begin a new figure by initializing a `figure` object and an `axes` object. You can think of the former as the empty canvas that will hold our figure. The latter -- the `axes` object, which consists of axes on a grid system -- is what actually does the plotting. We can create both of these objects by calling the `subplots` command. If we do not provide any arguments, it will produce a single graph. Alternatively, we can provide arguments that will partition the figure canvas into a series of smaller graphs.  \n",
    "\n",
    "Once our `figure` and `axes` objects have been created, we can use `pyplot` and `seaborn` commands to actually plot our data. Some of the many options, all demonstrated below, include: \n",
    "\n",
    "* `plot`, to draw lines or points\n",
    "* `scatter`, to draw unconnected points, scaled or coloured\n",
    "* `bar`, to draw vertical rectangles (constant width)\n",
    "* `barh`, to draw horizontal rectangles (constant height)\n",
    "* `axvline` and `axhline` to draw horizontal and vertical lines across axes\n",
    "\n",
    "In each of the examples below, we follow a generic process for producing a visualization. We start with any necessary data preparation, such as grouped operations. Then we initialize our `figure` and `axes` object using the `subplots()` command. Next, we use plotting commands to draw lines, points, bars, and so on. We then customize the plot by making modifications to each of the objects created to this point. Finally, we either show the plot in the browser, or we save it to a file. \n",
    "\n",
    "We go through these steps iteratively for each of the graphs below. We will iterate slowly at first, introducing very small changes one at a time. Gradually, we will start to move faster. \n",
    "\n",
    "A final note: here, we \"iterate\" on our visualizations by adding new code to some baseline plotting code. We do this in differnet code cells. In a real project, we would work in one cell, tweaking our code as we go. That approach doesn't really work in a teaching context, for obvious reasosn. In practice, you do not need this much code to produce good visualizations. "
   ]
  },
  {
   "cell_type": "markdown",
   "metadata": {},
   "source": [
    "# <i class=\"fa fa-location-arrow\"></i> COUNTS, RANKS, AND DISTRIBUTIONS <a id='crd'></a>\n",
    "\n",
    "## Bar Graphs\n",
    "\n",
    "> <font color=\"crimson\"><i class=\"fa fa-question-circle\"></i> **QUESTION FOR THE ROOM**   \n",
    "    > When should you use a bar graph?</font>"
   ]
  },
  {
   "cell_type": "code",
   "execution_count": null,
   "metadata": {},
   "outputs": [],
   "source": [
    "cat_counts = sampled.groupby('account_category').size()\n",
    "cat_counts"
   ]
  },
  {
   "cell_type": "code",
   "execution_count": null,
   "metadata": {},
   "outputs": [],
   "source": [
    "fig, ax = plt.subplots()\n",
    "ax.bar(cat_counts.index, cat_counts)\n",
    "plt.show()"
   ]
  },
  {
   "cell_type": "code",
   "execution_count": null,
   "metadata": {},
   "outputs": [],
   "source": [
    "fig, ax = plt.subplots()\n",
    "ax.barh(cat_counts.index, cat_counts)\n",
    "plt.show()"
   ]
  },
  {
   "cell_type": "code",
   "execution_count": null,
   "metadata": {},
   "outputs": [],
   "source": [
    "# reorder the series to reorder our bars\n",
    "cat_counts = cat_counts.sort_values(ascending=True)\n",
    "\n",
    "# initialize our figure and axes objects \n",
    "fig, ax = plt.subplots()\n",
    "\n",
    "# draw the horizontal bars\n",
    "ax.barh(cat_counts.index, cat_counts, color = '#32363A')\n",
    "\n",
    "# add an xlabel \n",
    "ax.set_xlabel('Number of tweets sent from user account category')\n",
    "\n",
    "# remove spines for top, right, and left \n",
    "ax.spines['right'].set_visible(False)\n",
    "ax.spines['left'].set_visible(False)\n",
    "ax.spines['top'].set_visible(False)\n",
    "\n",
    "# remove the tick marks on the left, but leave the labels\n",
    "ax.tick_params(axis='both', which='both', length=0)\n",
    "\n",
    "plt.show()"
   ]
  },
  {
   "cell_type": "markdown",
   "metadata": {},
   "source": [
    "## Dot Plots\n",
    "\n",
    "> <font color=\"crimson\"><i class=\"fa fa-question-circle\"></i> **QUESTION FOR THE ROOM**   \n",
    "    > When should you use a dot plot?</font>"
   ]
  },
  {
   "cell_type": "code",
   "execution_count": null,
   "metadata": {},
   "outputs": [],
   "source": [
    "# reorder the series to reorder our bars\n",
    "cat_counts = cat_counts.sort_values(ascending=True)\n",
    "\n",
    "# initialize our figure and axes objects \n",
    "fig, ax = plt.subplots()\n",
    "\n",
    "# draw the dots and horizontal lines\n",
    "# this is the only part of this graph that differs from the horizontal bar chart above\n",
    "ax.hlines(y=cat_counts.index, xmin=0, xmax=cat_counts, color='#32363A', linewidth=2)\n",
    "ax.plot(cat_counts, cat_counts.index, \"o\", color='#32363A', markersize = 8)\n",
    "\n",
    "# add an xlabel \n",
    "ax.set_xlabel('Number of tweets sent from user account category')\n",
    "\n",
    "# remove spines for top, right, and left \n",
    "ax.spines['right'].set_visible(False)\n",
    "# ax.spines['left'].set_visible(False)\n",
    "ax.spines['top'].set_visible(False)\n",
    "\n",
    "# remove the tick marks on the left, but leave the labels\n",
    "ax.tick_params(axis='both', which='both', length=0)\n",
    "\n",
    "plt.show()"
   ]
  },
  {
   "cell_type": "markdown",
   "metadata": {},
   "source": [
    "## Histograms & Kernel Density Estimates \n",
    "\n",
    "> <font color=\"crimson\"><i class=\"fa fa-question-circle\"></i> **QUESTION FOR THE ROOM**   \n",
    "    > When should you use a histogram or kernel density estimate?</font>"
   ]
  },
  {
   "cell_type": "code",
   "execution_count": null,
   "metadata": {},
   "outputs": [],
   "source": [
    "fig, ax = plt.subplots()\n",
    "ax.hist(sampled['followers'])\n",
    "plt.show()"
   ]
  },
  {
   "cell_type": "code",
   "execution_count": null,
   "metadata": {},
   "outputs": [],
   "source": [
    "fig, ax = plt.subplots()\n",
    "ax.hist(sampled['followers'], bins=50, color='#32363A')\n",
    "plt.show()"
   ]
  },
  {
   "cell_type": "code",
   "execution_count": null,
   "metadata": {},
   "outputs": [],
   "source": [
    "fig, ax = plt.subplots()\n",
    "\n",
    "ax.hist(sampled['followers'], bins=50, color='#32363A')\n",
    "\n",
    "ax.spines['right'].set_visible(False)\n",
    "ax.spines['top'].set_visible(False)\n",
    "\n",
    "plt.show()"
   ]
  },
  {
   "cell_type": "code",
   "execution_count": null,
   "metadata": {},
   "outputs": [],
   "source": [
    "fig, ax = plt.subplots()\n",
    "\n",
    "ax.hist(sampled['followers'], bins=50, color='#32363A')\n",
    "ax.set_yscale('log')\n",
    "\n",
    "ax.spines['right'].set_visible(False)\n",
    "ax.spines['top'].set_visible(False)\n",
    "\n",
    "ax.set_xlabel('Number of followers')\n",
    "ax.set_ylabel('Number of accounts (log scale)')\n",
    "\n",
    "plt.show()"
   ]
  },
  {
   "cell_type": "code",
   "execution_count": null,
   "metadata": {},
   "outputs": [],
   "source": [
    "fig, ax = plt.subplots()\n",
    "\n",
    "ax.hist(sampled['followers'], bins=50, color='#32363A', density=True)\n",
    "ax.set_yscale('log')\n",
    "\n",
    "ax.spines['right'].set_visible(False)\n",
    "ax.spines['top'].set_visible(False)\n",
    "\n",
    "ax.set_xlabel('Number of followers')\n",
    "ax.set_ylabel('Density of accounts (log scale)')\n",
    "\n",
    "plt.show()"
   ]
  },
  {
   "cell_type": "code",
   "execution_count": null,
   "metadata": {},
   "outputs": [],
   "source": [
    "fig, ax = plt.subplots()\n",
    "\n",
    "sns.distplot(sampled['followers'], hist=False, color='#32363A')\n",
    "\n",
    "ax.spines['right'].set_visible(False)\n",
    "ax.spines['top'].set_visible(False)\n",
    "\n",
    "ax.set_xlabel('Number of followers')\n",
    "ax.set_ylabel('Density of accounts (log scale)')\n",
    "\n",
    "plt.show()"
   ]
  },
  {
   "cell_type": "code",
   "execution_count": null,
   "metadata": {},
   "outputs": [],
   "source": [
    "fig, ax = plt.subplots()\n",
    "\n",
    "sns.distplot(sampled['followers'], hist=True, color='#32363A')\n",
    "\n",
    "ax.spines['right'].set_visible(False)\n",
    "ax.spines['top'].set_visible(False)\n",
    "\n",
    "ax.set_xlabel('Number of followers')\n",
    "ax.set_ylabel('Density of accounts (log scale)')\n",
    "\n",
    "plt.show()"
   ]
  },
  {
   "cell_type": "markdown",
   "metadata": {},
   "source": [
    "# Strip Plots\n",
    "\n",
    "> <font color=\"crimson\"><i class=\"fa fa-question-circle\"></i> **QUESTION FOR THE ROOM**   \n",
    "    > When should you use a strip plot?</font>"
   ]
  },
  {
   "cell_type": "code",
   "execution_count": null,
   "metadata": {},
   "outputs": [],
   "source": [
    "fig, ax = plt.subplots()\n",
    "ax.scatter(sampled['followers'], sampled['account_category'], color='#32363A', alpha = .5)\n",
    "\n",
    "# remove spines for top, right, and left \n",
    "ax.spines['right'].set_visible(False)\n",
    "ax.spines['left'].set_visible(False)\n",
    "ax.spines['top'].set_visible(False)\n",
    "\n",
    "# remove the tick marks on the left, but leave the labels\n",
    "ax.tick_params(axis='both', which='both', length=0)\n",
    "\n",
    "plt.show()"
   ]
  },
  {
   "cell_type": "code",
   "execution_count": null,
   "metadata": {},
   "outputs": [],
   "source": [
    "fig, ax = plt.subplots()\n",
    "# matplotlib doesn't have a convenient jitter parameter, so we will use seaborn \n",
    "sns.stripplot(sampled['followers'], sampled['account_category'], color='#32363A', alpha = .5, jitter=0.2, size=2)\n",
    "\n",
    "# remove spines for top, right, and left \n",
    "ax.spines['right'].set_visible(False)\n",
    "ax.spines['left'].set_visible(False)\n",
    "ax.spines['top'].set_visible(False)\n",
    "\n",
    "# remove the tick marks on the left, but leave the labels\n",
    "ax.tick_params(axis='both', which='both', length=0)\n",
    "\n",
    "ax.set_ylabel('')\n",
    "ax.set_xlabel('Number of followers')\n",
    "\n",
    "plt.show()"
   ]
  },
  {
   "cell_type": "markdown",
   "metadata": {},
   "source": [
    "## Boxplots\n",
    "\n",
    "> <font color=\"crimson\"><i class=\"fa fa-question-circle\"></i> **QUESTION FOR THE ROOM**   \n",
    "    > When should you use a boxplot?</font>"
   ]
  },
  {
   "cell_type": "code",
   "execution_count": null,
   "metadata": {},
   "outputs": [],
   "source": [
    "fig, ax = plt.subplots()\n",
    "ax.boxplot([sampled['followers'], sampled['following']])\n",
    "plt.show()"
   ]
  },
  {
   "cell_type": "code",
   "execution_count": null,
   "metadata": {},
   "outputs": [],
   "source": [
    "flierprops = dict(marker='o', markerfacecolor='#32363A', markersize=4,linestyle='none', alpha=.3)\n",
    "\n",
    "fig, ax = plt.subplots()\n",
    "ax.boxplot([sampled['followers'], sampled['following']], flierprops = flierprops)\n",
    "plt.show()"
   ]
  },
  {
   "cell_type": "code",
   "execution_count": null,
   "metadata": {},
   "outputs": [],
   "source": [
    "fig, ax = plt.subplots()\n",
    "ax.boxplot([sampled['followers'], sampled['following']], showfliers=False)\n",
    "plt.show()"
   ]
  },
  {
   "cell_type": "code",
   "execution_count": null,
   "metadata": {},
   "outputs": [],
   "source": [
    "fig, ax = plt.subplots()\n",
    "ax.boxplot([sampled['followers'], sampled['following']], showfliers=False)\n",
    "ax.set_xticklabels(['Followers', 'Following'])\n",
    "ax.set_ylabel('Count')\n",
    "plt.show()"
   ]
  },
  {
   "cell_type": "code",
   "execution_count": null,
   "metadata": {},
   "outputs": [],
   "source": [
    "medianprops = dict(linewidth=2, color='#32363A')\n",
    "boxprops = dict(linewidth=2, color='#32363A')\n",
    "\n",
    "fig, ax = plt.subplots()\n",
    "ax.boxplot([sampled['followers'], sampled['following']], showfliers=False, medianprops=medianprops, boxprops=boxprops)\n",
    "ax.set_xticklabels(['Followers', 'Following'])\n",
    "ax.set_ylabel('Count')\n",
    "plt.show()"
   ]
  },
  {
   "cell_type": "code",
   "execution_count": null,
   "metadata": {},
   "outputs": [],
   "source": [
    "medianprops = dict(linewidth=2, color='#32363A')\n",
    "boxprops = dict(linewidth=2, color='#32363A')\n",
    "\n",
    "fig, ax = plt.subplots()\n",
    "ax.boxplot([sampled['followers'], sampled['following']], \n",
    "           showfliers=False, medianprops=medianprops, boxprops=boxprops, widths=.4)\n",
    "\n",
    "ax.set_xticklabels(['Followers', 'Following'])\n",
    "ax.set_ylabel('Count\\n')\n",
    "\n",
    "ax.tick_params(axis='both', which='both', length=0)\n",
    "\n",
    "plt.show()"
   ]
  },
  {
   "cell_type": "code",
   "execution_count": null,
   "metadata": {},
   "outputs": [],
   "source": [
    "medianprops = dict(linewidth=2, color='#32363A')\n",
    "boxprops = dict(linewidth=2, color='#32363A')\n",
    "\n",
    "fig, ax = plt.subplots()\n",
    "ax.boxplot([sampled['followers'], sampled['following']], \n",
    "           showfliers=False, medianprops=medianprops, boxprops=boxprops, widths=.4)\n",
    "\n",
    "ax.set_xticklabels(['Followers', 'Following'])\n",
    "ax.set_ylabel('Count\\n')\n",
    "\n",
    "ax.spines['right'].set_visible(False)\n",
    "ax.spines['left'].set_visible(False)\n",
    "ax.spines['top'].set_visible(False)\n",
    "ax.spines['bottom'].set_visible(False)\n",
    "\n",
    "ax.tick_params(axis='both', which='both', length=0)\n",
    "\n",
    "plt.show()"
   ]
  },
  {
   "cell_type": "code",
   "execution_count": null,
   "metadata": {},
   "outputs": [],
   "source": [
    "medianprops = dict(linewidth=2, color='#32363A')\n",
    "boxprops = dict(linewidth=2, color='#32363A')\n",
    "\n",
    "fig, ax = plt.subplots()\n",
    "\n",
    "# let's make these horizontal rather than vertical\n",
    "ax.boxplot([sampled['followers'], sampled['following']], showfliers=False, \n",
    "           medianprops=medianprops, boxprops=boxprops, vert=False, widths=.4)\n",
    "\n",
    "ax.set_yticklabels(['Followers', 'Following'])\n",
    "ax.set_xlabel('\\nCount')\n",
    "\n",
    "ax.spines['right'].set_visible(False)\n",
    "ax.spines['left'].set_visible(False)\n",
    "ax.spines['top'].set_visible(False)\n",
    "ax.spines['bottom'].set_visible(False)\n",
    "\n",
    "ax.tick_params(axis='both', which='both', length=0)\n",
    "\n",
    "plt.show()"
   ]
  },
  {
   "cell_type": "code",
   "execution_count": null,
   "metadata": {},
   "outputs": [],
   "source": [
    "medianprops = dict(linewidth=2, color='#32363A')\n",
    "boxprops = dict(linewidth=2)\n",
    "\n",
    "fig, ax = plt.subplots()\n",
    "\n",
    "# this time we will use seaborn to simplify comparisons\n",
    "sns.boxplot(x=sampled['followers'], y=sampled['account_category'], orient=\"h\", color='lightgray', \n",
    "            showfliers=False, medianprops = medianprops, boxprops = boxprops)\n",
    "\n",
    "ax.spines['right'].set_visible(False)\n",
    "ax.spines['left'].set_visible(False)\n",
    "ax.spines['top'].set_visible(False)\n",
    "ax.spines['bottom'].set_visible(False)\n",
    "\n",
    "ax.tick_params(axis='both', which='both', length=0)\n",
    "\n",
    "ax.set_xlabel('\\nNumber of followers')\n",
    "ax.set_ylabel('')\n",
    "\n",
    "plt.show()"
   ]
  },
  {
   "cell_type": "code",
   "execution_count": null,
   "metadata": {},
   "outputs": [],
   "source": [
    "wo_newsfeed = sampled[sampled['account_category'] != \"NewsFeed\"]"
   ]
  },
  {
   "cell_type": "code",
   "execution_count": null,
   "metadata": {},
   "outputs": [],
   "source": [
    "medianprops = dict(linewidth=2, color='#32363A')\n",
    "boxprops = dict(linewidth=2)\n",
    "\n",
    "fig, ax = plt.subplots()\n",
    "\n",
    "# this time we will use seaborn to simplify comparisons\n",
    "sns.boxplot(x=wo_newsfeed['followers'], y=wo_newsfeed['account_category'], orient=\"h\", color='lightgray', \n",
    "            showfliers=False, medianprops = medianprops, boxprops = boxprops)\n",
    "\n",
    "ax.spines['right'].set_visible(False)\n",
    "ax.spines['left'].set_visible(False)\n",
    "ax.spines['top'].set_visible(False)\n",
    "ax.spines['bottom'].set_visible(False)\n",
    "\n",
    "ax.tick_params(axis='both', which='both', length=0)\n",
    "\n",
    "ax.set_xlabel('\\nNumber of followers')\n",
    "ax.set_ylabel('')\n",
    "\n",
    "plt.show()"
   ]
  },
  {
   "cell_type": "markdown",
   "metadata": {},
   "source": [
    "#  <i class=\"fa fa-location-arrow\"></i>  RELATIONSHIPS <a id='relationships'></a>\n",
    "\n",
    "## Scatterplots\n",
    "\n",
    "> <font color=\"crimson\"><i class=\"fa fa-question-circle\"></i> **QUESTION FOR THE ROOM**   \n",
    "    > When should you use a scatterplot?</font>"
   ]
  },
  {
   "cell_type": "code",
   "execution_count": null,
   "metadata": {},
   "outputs": [],
   "source": [
    "fig, ax = plt.subplots()\n",
    "ax.scatter(sampled['followers'], sampled['following'])\n",
    "plt.show()"
   ]
  },
  {
   "cell_type": "code",
   "execution_count": null,
   "metadata": {},
   "outputs": [],
   "source": [
    "fig, ax = plt.subplots()\n",
    "ax.scatter(sampled['followers'], sampled['following'], alpha=.6, color='#32363A')\n",
    "plt.show()"
   ]
  },
  {
   "cell_type": "code",
   "execution_count": null,
   "metadata": {},
   "outputs": [],
   "source": [
    "fig, ax = plt.subplots()\n",
    "ax.scatter(sampled['followers'], sampled['following'], alpha=.4, color='#32363A')\n",
    "\n",
    "ax.spines['right'].set_visible(False)\n",
    "ax.spines['top'].set_visible(False)\n",
    "\n",
    "ax.set_xlabel('Number of followers')\n",
    "ax.set_ylabel('Number following')\n",
    "\n",
    "plt.show()"
   ]
  },
  {
   "cell_type": "markdown",
   "metadata": {},
   "source": [
    "# <i class=\"fa fa-location-arrow\"></i> TIME SERIES <a id='time'></a>\n",
    "\n",
    "## Line Graphs \n",
    "\n",
    "> <font color=\"crimson\"><i class=\"fa fa-question-circle\"></i> **QUESTION FOR THE ROOM**   \n",
    "    > When should you use a line graph?</font>\n",
    "    \n",
    "* Recall the material from yesterday on `Datetime` objects in `pandas`. \n",
    "* \"Resampling\" `datetime` objects\n",
    "    * <font color=\"crimson\">\"Resampling\"</font> is the process of converting a time series from one level to another. \n",
    "        * <font color=\"crimson\">upsampling</font>: aggregates dates / times \n",
    "        * <font color=\"crimson\">downsampling</font>: disaggregates dates / times "
   ]
  },
  {
   "cell_type": "code",
   "execution_count": null,
   "metadata": {},
   "outputs": [],
   "source": [
    "sampled['publish_date']"
   ]
  },
  {
   "cell_type": "code",
   "execution_count": null,
   "metadata": {},
   "outputs": [],
   "source": [
    "dt = pd.to_datetime(sampled['publish_date'].tolist())\n",
    "type(dt)"
   ]
  },
  {
   "cell_type": "code",
   "execution_count": null,
   "metadata": {},
   "outputs": [],
   "source": [
    "dt"
   ]
  },
  {
   "cell_type": "code",
   "execution_count": null,
   "metadata": {},
   "outputs": [],
   "source": [
    "dt.day"
   ]
  },
  {
   "cell_type": "code",
   "execution_count": null,
   "metadata": {},
   "outputs": [],
   "source": [
    "dt.week"
   ]
  },
  {
   "cell_type": "code",
   "execution_count": null,
   "metadata": {},
   "outputs": [],
   "source": [
    "dt.year"
   ]
  },
  {
   "cell_type": "code",
   "execution_count": null,
   "metadata": {},
   "outputs": [],
   "source": [
    "sampled['Year'] = dt.year\n",
    "sampled['Month'] = dt.month\n",
    "sampled['Day'] = dt.day"
   ]
  },
  {
   "cell_type": "code",
   "execution_count": null,
   "metadata": {},
   "outputs": [],
   "source": [
    "grouped = sampled.groupby(['Year', 'Month', 'Day']).size().sort_values(ascending=False).reset_index()\n",
    "\n",
    "grouped = grouped.rename(\n",
    "    columns={0:'Number of (sampled) tweets'}\n",
    ")\n",
    "\n",
    "grouped = grouped.sort_values(['Year', 'Month', 'Day'], ascending=True)"
   ]
  },
  {
   "cell_type": "code",
   "execution_count": null,
   "metadata": {},
   "outputs": [],
   "source": [
    "grouped.sample(20)"
   ]
  },
  {
   "cell_type": "markdown",
   "metadata": {},
   "source": [
    "We will produce this plot with the full `dataframe`, so it will take a bit of time. \n",
    "\n",
    "Perhaps a good time to take a break for tea and coffee. ☕️☕️☕️"
   ]
  },
  {
   "cell_type": "code",
   "execution_count": null,
   "metadata": {},
   "outputs": [],
   "source": [
    "df['Datetime'] = pd.to_datetime(df['publish_date'])\n",
    "df = df.set_index('Datetime')"
   ]
  },
  {
   "cell_type": "markdown",
   "metadata": {},
   "source": [
    "Various ways to group by time. See the `pandas` timeseries documentation for further details. \n",
    "\n",
    "| Value | Description                                  |\n",
    "|:------|:---------------------------------------------|\n",
    "| B     | business day frequency                       |\n",
    "| C     | custom business day frequency (experimental) |\n",
    "| D     | calendar day frequency                       |\n",
    "| W     | weekly frequency                             |\n",
    "| M     | month end frequency                          |\n",
    "| BM    | business month end frequency                 |\n",
    "| CBM   | custom business month end frequency          |\n",
    "| MS    | month start frequency                        |\n",
    "| BMS   | business month start frequency               |\n",
    "| CBMS  | custom business month start frequency        |\n",
    "| Q     | quarter end frequency                        |\n",
    "| BQ    | business quarter endfrequency                |\n",
    "| QS    | quarter start frequency                      |\n",
    "| BQS   | business quarter start frequency             |\n",
    "| A     | year end frequency                           |\n",
    "| BA    | business year end frequency                  |\n",
    "| AS    | year start frequency                         |\n",
    "| BAS   | business year start frequency                |\n",
    "| BH    | business hour frequency                      |\n",
    "| H     | hourly frequency                             |\n",
    "| T     | minutely frequency                           |\n",
    "| S     | secondly frequency                           |\n",
    "| L     | milliseonds                                  |\n",
    "| U     | microseconds                                 |\n",
    "| N     | nanosecondsa                                 |"
   ]
  },
  {
   "cell_type": "markdown",
   "metadata": {},
   "source": [
    "# ☕️ ☕️ ☕️ Tea / Coffee Break "
   ]
  },
  {
   "cell_type": "code",
   "execution_count": null,
   "metadata": {},
   "outputs": [],
   "source": [
    "grouped_cal_day = df.resample('D').size() # group by calendar day and count the number of tweets"
   ]
  },
  {
   "cell_type": "code",
   "execution_count": null,
   "metadata": {},
   "outputs": [],
   "source": [
    "grouped_cal_day"
   ]
  },
  {
   "cell_type": "code",
   "execution_count": null,
   "metadata": {},
   "outputs": [],
   "source": [
    "from pandas.plotting import register_matplotlib_converters\n",
    "register_matplotlib_converters()\n",
    "\n",
    "fig, ax = plt.subplots()\n",
    "ax.plot(grouped_cal_day, color='#32363A')\n",
    "\n",
    "ax.spines['right'].set_visible(False)\n",
    "ax.spines['top'].set_visible(False)\n",
    "\n",
    "ax.set_xlabel('Daily observations')\n",
    "ax.set_ylabel('Number of Tweets')\n",
    "\n",
    "plt.show()"
   ]
  },
  {
   "cell_type": "code",
   "execution_count": null,
   "metadata": {},
   "outputs": [],
   "source": [
    "weekly = df.resample('W').size()\n",
    "weekly"
   ]
  },
  {
   "cell_type": "code",
   "execution_count": null,
   "metadata": {},
   "outputs": [],
   "source": [
    "fig, ax = plt.subplots()\n",
    "ax.plot(weekly, color='#32363A')\n",
    "\n",
    "# add a vertical line for the 2016 US Presidential election \n",
    "ax.axvline(pd.to_datetime('2016-11-06'), color='crimson', linestyle='--', lw=1.5)\n",
    "# add a veritcal line for the 2016 Brexit referendum \n",
    "ax.axvline(pd.to_datetime('2016-06-23'), color='#398ECF', linestyle='--', lw=1.5)\n",
    "\n",
    "ax.spines['right'].set_visible(False)\n",
    "ax.spines['top'].set_visible(False)\n",
    "\n",
    "ax.set_xlabel('\\nWeekly observations')\n",
    "ax.set_ylabel('Number of Tweets\\n')\n",
    "\n",
    "# this unpleasant line gives us some nicely formatted numbers for the y axis labels \n",
    "# lamda functions are beyond the scope of this week long course \n",
    "ax.get_yaxis().set_major_formatter(plt.FuncFormatter(lambda x, loc: \"{:,}\".format(int(x))))\n",
    "\n",
    "plt.show()"
   ]
  },
  {
   "cell_type": "markdown",
   "metadata": {},
   "source": [
    "# <i class=\"fa fa-location-arrow\"></i> ANNOTATIONS <a id='annotations'></a>\n",
    "\n",
    "> <font color=\"crimson\"><i class=\"fa fa-question-circle\"></i> **QUESTION FOR THE ROOM**   \n",
    "    > What are some examples of useful or helpful plot annotations?    \n",
    "    > Unhelpful plot annotations?</font>"
   ]
  },
  {
   "cell_type": "code",
   "execution_count": null,
   "metadata": {},
   "outputs": [],
   "source": [
    "fig, ax = plt.subplots()\n",
    "ax.plot(weekly, color='#32363A')\n",
    "\n",
    "# # add a vertical line for the 2016 US Presidential election \n",
    "ax.axvline(pd.to_datetime('2016-11-06'), color='crimson', linestyle='--', lw=1.5)\n",
    "# # add a veritcal line for the 2016 Brexit referendum \n",
    "ax.axvline(pd.to_datetime('2016-06-23'), color='#398ECF', linestyle='--', lw=1.5)\n",
    "\n",
    "# text annotations\n",
    "ax.annotate('US Presidential Election', \n",
    "            xytext=[pd.Timestamp('2013'),50000],\n",
    "            xy=[pd.to_datetime('2016-11-06'), weekly.loc[pd.to_datetime('2016-11-06')]], color='crimson', \n",
    "            arrowprops={\"arrowstyle\":\"-|>\", \"color\":\"crimson\"})\n",
    "\n",
    "ax.annotate('Brexit Referendum', \n",
    "            xytext=[pd.Timestamp('2013'),30000],\n",
    "            xy=[pd.to_datetime('2016-06-23'), weekly.loc[pd.to_datetime('2016-11-06')]], color='#398ECF', \n",
    "            arrowprops={\"arrowstyle\":\"-|>\", \"color\":\"#398ECF\"})\n",
    "\n",
    "ax.spines['right'].set_visible(False)\n",
    "ax.spines['top'].set_visible(False)\n",
    "\n",
    "ax.set_xlabel('\\nWeekly observations')\n",
    "ax.set_ylabel('Number of Tweets\\n')\n",
    "\n",
    "# this unpleasant line gives us some nicely formatted numbers for the y axis labels \n",
    "# lamda functions are beyond the score of this week long course \n",
    "ax.get_yaxis().set_major_formatter(plt.FuncFormatter(lambda x, loc: \"{:,}\".format(int(x))))\n",
    "\n",
    "plt.show()"
   ]
  },
  {
   "cell_type": "markdown",
   "metadata": {},
   "source": [
    "# <i class=\"fa fa-location-arrow\"></i> SMALL MULTIPLES & PAIR PLOTS<a id='multiples'></a>\n",
    "    \n",
    "> <font color=\"crimson\"><i class=\"fa fa-question-circle\"></i> **QUESTION FOR THE ROOM**   \n",
    "    > When should you use small multiples?</font>    \n",
    "    \n",
    "> <font color=\"crimson\"><i class=\"fa fa-question-circle\"></i> **QUESTION FOR THE ROOM**   \n",
    "    > When should you use a pair plot?</font>\n"
   ]
  },
  {
   "cell_type": "code",
   "execution_count": null,
   "metadata": {},
   "outputs": [],
   "source": [
    "df['language'].value_counts().head(11)"
   ]
  },
  {
   "cell_type": "code",
   "execution_count": null,
   "metadata": {},
   "outputs": [],
   "source": [
    "by_lang = df.groupby('language')\n",
    "by_lang"
   ]
  },
  {
   "cell_type": "code",
   "execution_count": null,
   "metadata": {},
   "outputs": [],
   "source": [
    "def get_resampled_lang(DFGB, language, resample_freq):\n",
    "    df = DFGB.get_group(language).resample(resample_freq).size()\n",
    "    return df"
   ]
  },
  {
   "cell_type": "code",
   "execution_count": null,
   "metadata": {},
   "outputs": [],
   "source": [
    "# three rows, two columns \n",
    "fig, axs = plt.subplots(2, 2, sharey=True, sharex=True)\n",
    "\n",
    "axs[0,0].set_title('Russian')\n",
    "axs[0,0].plot(get_resampled_lang(by_lang, 'Russian', 'W'), color='#32363A')\n",
    "\n",
    "axs[0,0].set_title('English')\n",
    "axs[0,1].plot(get_resampled_lang(by_lang, 'English', 'W'), color='#32363A')\n",
    "axs[0,1].annotate('US Presidential Election', \n",
    "            xytext=[pd.Timestamp('2013'),50000],\n",
    "            xy=[pd.to_datetime('2016-11-06'), weekly.loc[pd.to_datetime('2016-11-06')]], color='crimson', \n",
    "            arrowprops={\"arrowstyle\":\"-|>\", \"color\":\"crimson\"})\n",
    "axs[0,1].annotate('Brexit Referendum', \n",
    "            xytext=[pd.Timestamp('2013'),30000],\n",
    "            xy=[pd.to_datetime('2016-06-23'), weekly.loc[pd.to_datetime('2016-11-06')]], color='#398ECF', \n",
    "            arrowprops={\"arrowstyle\":\"-|>\", \"color\":\"#398ECF\"})\n",
    "\n",
    "axs[0,0].set_title('German')\n",
    "axs[1,0].plot(get_resampled_lang(by_lang, 'German', 'W'), color='#32363A')\n",
    "\n",
    "axs[0,0].set_title('Ukrainian')\n",
    "axs[1,1].plot(get_resampled_lang(by_lang, 'Ukrainian', 'W'), color='#32363A')\n",
    "\n",
    "plt.tight_layout() # adds a bit of space between plots\n",
    "fig.autofmt_xdate() # rotates the x-axis labels \n",
    "# plt.xticks(rotation=45) # something like this would also work\n",
    "\n",
    "plt.show()\n"
   ]
  },
  {
   "cell_type": "markdown",
   "metadata": {},
   "source": [
    "This time without shared axes. "
   ]
  },
  {
   "cell_type": "code",
   "execution_count": null,
   "metadata": {},
   "outputs": [],
   "source": [
    "# three rows, two columns \n",
    "fig, axs = plt.subplots(2, 2, sharey=False, sharex=True)\n",
    "\n",
    "axs[0,0].set_title('Russian')\n",
    "axs[0,0].plot(get_resampled_lang(by_lang, 'Russian', 'W'), color='#32363A')\n",
    "\n",
    "axs[0,0].set_title('English')\n",
    "axs[0,1].plot(get_resampled_lang(by_lang, 'English', 'W'), color='#32363A')\n",
    "axs[0,1].annotate('US Presidential Election', \n",
    "            xytext=[pd.Timestamp('2013'),50000],\n",
    "            xy=[pd.to_datetime('2016-11-06'), weekly.loc[pd.to_datetime('2016-11-06')]], color='crimson', \n",
    "            arrowprops={\"arrowstyle\":\"-|>\", \"color\":\"crimson\"})\n",
    "axs[0,1].annotate('Brexit Referendum', \n",
    "            xytext=[pd.Timestamp('2013'),30000],\n",
    "            xy=[pd.to_datetime('2016-06-23'), weekly.loc[pd.to_datetime('2016-11-06')]], color='#398ECF', \n",
    "            arrowprops={\"arrowstyle\":\"-|>\", \"color\":\"#398ECF\"})\n",
    "\n",
    "axs[0,0].set_title('German')\n",
    "axs[1,0].plot(get_resampled_lang(by_lang, 'German', 'W'), color='#32363A')\n",
    "\n",
    "axs[0,0].set_title('Ukrainian')\n",
    "axs[1,1].plot(get_resampled_lang(by_lang, 'Ukrainian', 'W'), color='#32363A')\n",
    "\n",
    "plt.tight_layout() # adds a bit of space between plots\n",
    "fig.autofmt_xdate() # rotates the x-axis labels \n",
    "# plt.xticks(rotation=45) # something like this would also work\n",
    "\n",
    "plt.show()\n"
   ]
  },
  {
   "cell_type": "markdown",
   "metadata": {},
   "source": [
    "And here is another way of doing something similar, this time with three plots. "
   ]
  },
  {
   "cell_type": "code",
   "execution_count": null,
   "metadata": {},
   "outputs": [],
   "source": [
    "fig = plt.figure(figsize=(8, 6)) # we can change the figure dimentions here. \n",
    "\n",
    "ax1 = plt.subplot(212)\n",
    "ax1.plot(weekly, color='#32363A')\n",
    "ax1.set_xlabel('All Languages')\n",
    "\n",
    "ax2 = plt.subplot(221)\n",
    "ax2.plot(get_resampled_lang(by_lang, 'English', 'W'), color='#32363A')\n",
    "ax2.set_title('English')\n",
    "\n",
    "ax3 = plt.subplot(222)\n",
    "ax3.plot(get_resampled_lang(by_lang, 'Russian', 'W'), color='#32363A')\n",
    "ax3.set_title('Russian')\n",
    "\n",
    "plt.tight_layout()\n",
    "plt.show()"
   ]
  },
  {
   "cell_type": "markdown",
   "metadata": {},
   "source": [
    "# <i class=\"fa fa-location-arrow\"></i>  REFINING AND SAVING PLOTS FOR PUBLICATION <a id='publication'></a>\n",
    "\n",
    "* raster graphics vs. vector graphics \n",
    "* `savefig()`\n",
    "    * png with dpi parameter\n",
    "    * jpg with quality parameter \n",
    "* pdf (for print)\n",
    "* svg (for vector graphics on the web, for manual customization) "
   ]
  },
  {
   "cell_type": "code",
   "execution_count": null,
   "metadata": {},
   "outputs": [],
   "source": [
    "fig, ax = plt.subplots()\n",
    "\n",
    "# we can set the aspect ratios in a slightly different way \n",
    "fig.set_figheight(5)\n",
    "fig.set_figwidth(8)\n",
    "\n",
    "ax.plot(weekly, color='#32363A')\n",
    "\n",
    "# # add a vertical line for the 2016 US Presidential election \n",
    "ax.axvline(pd.to_datetime('2016-11-06'), color='crimson', linestyle='--', lw=1.5)\n",
    "# # add a veritcal line for the 2016 Brexit referendum \n",
    "ax.axvline(pd.to_datetime('2016-06-23'), color='#398ECF', linestyle='--', lw=1.5)\n",
    "\n",
    "# text annotations\n",
    "ax.annotate('US Presidential Election', \n",
    "            xytext=[pd.Timestamp('2013'),50000],\n",
    "            xy=[pd.to_datetime('2016-11-06'), weekly.loc[pd.to_datetime('2016-11-06')]], color='crimson', \n",
    "            arrowprops={\"arrowstyle\":\"-|>\", \"color\":\"crimson\"})\n",
    "\n",
    "ax.annotate('Brexit Referendum', \n",
    "            xytext=[pd.Timestamp('2013'),30000],\n",
    "            xy=[pd.to_datetime('2016-06-23'), weekly.loc[pd.to_datetime('2016-11-06')]], color='#398ECF', \n",
    "            arrowprops={\"arrowstyle\":\"-|>\", \"color\":\"#398ECF\"})\n",
    "\n",
    "ax.spines['right'].set_visible(False)\n",
    "ax.spines['top'].set_visible(False)\n",
    "\n",
    "ax.set_xlabel('\\nWeekly observations')\n",
    "ax.set_ylabel('Number of Tweets\\n')\n",
    "\n",
    "# this unpleasant line gives us some nicely formatted numbers for the y axis labels \n",
    "# lamda functions are beyond the score of this week long course \n",
    "ax.get_yaxis().set_major_formatter(plt.FuncFormatter(lambda x, loc: \"{:,}\".format(int(x))))\n",
    "\n",
    "# SAVE FOR THE WEB\n",
    "\n",
    "## JPG: qual from 1 (worst) to 95 (best, but why bother with compression?)\n",
    "plt.savefig('img/weekly_observations.jpg', quality=80) \n",
    "\n",
    "## PNG\n",
    "plt.savefig('img/weekly_observations.png', dpi=300)\n",
    "\n",
    "## SVG\n",
    "plt.savefig('img/weekly_observations.svg')\n",
    "\n",
    "# SAVE FOR PRINT\n",
    "\n",
    "## PDF\n",
    "plt.savefig('img/weekly_observations.pdf')\n",
    "\n",
    "# we can still show\n",
    "plt.show()"
   ]
  }
 ],
 "metadata": {
  "kernelspec": {
   "display_name": "Python 3",
   "language": "python",
   "name": "python3"
  },
  "language_info": {
   "codemirror_mode": {
    "name": "ipython",
    "version": 3
   },
   "file_extension": ".py",
   "mimetype": "text/x-python",
   "name": "python",
   "nbconvert_exporter": "python",
   "pygments_lexer": "ipython3",
   "version": "3.6.9"
  }
 },
 "nbformat": 4,
 "nbformat_minor": 4
}
