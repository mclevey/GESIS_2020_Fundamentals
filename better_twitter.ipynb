{
 "cells": [
  {
   "cell_type": "markdown",
   "metadata": {},
   "source": [
    "# A Cleaner Guide to Twitter 🙄\n",
    "\n",
    "I blasted through the Twitter content the other day, and my code had a few issues I didn't notice until I was already talking. Here is a better version of working with user data from the REST API that should be easier to understand. \n",
    "\n",
    "John "
   ]
  },
  {
   "cell_type": "code",
   "execution_count": 1,
   "metadata": {},
   "outputs": [],
   "source": [
    "import tweepy \n",
    "import config_twitter\n",
    "import pandas as pd\n",
    "import json"
   ]
  },
  {
   "cell_type": "code",
   "execution_count": 2,
   "metadata": {},
   "outputs": [],
   "source": [
    "accounts = pd.Series(['johnmclevey', '@point_mutation', 'I_am_a_fake_account'])"
   ]
  },
  {
   "cell_type": "markdown",
   "metadata": {},
   "source": [
    "Let's retrieve the data from twitter and store it. That way we don't need to keep making API requests and risk rate limiting. We can re-run this code when we want to update our data (but let's not overwrite the old data when we do that!) "
   ]
  },
  {
   "cell_type": "code",
   "execution_count": 3,
   "metadata": {},
   "outputs": [
    {
     "name": "stdout",
     "output_type": "stream",
     "text": [
      "Jujou_24\n",
      "@liamerox\n",
      "I_am_a_fake_account\n"
     ]
    }
   ],
   "source": [
    "for each in accounts:\n",
    "    print(each)"
   ]
  },
  {
   "cell_type": "markdown",
   "metadata": {},
   "source": [
    "Now let's authenticate with the Twitter API. "
   ]
  },
  {
   "cell_type": "code",
   "execution_count": 4,
   "metadata": {},
   "outputs": [],
   "source": [
    "auth = tweepy.OAuthHandler(config_twitter.API_KEY, config_twitter.API_TOKEN)\n",
    "auth.set_access_token(config_twitter.ACCESS_TOKEN, config_twitter.ACCESS_TOKEN_SECRET)\n",
    "api = tweepy.API(auth, wait_on_rate_limit=True, wait_on_rate_limit_notify=True, compression=True)"
   ]
  },
  {
   "cell_type": "markdown",
   "metadata": {},
   "source": [
    "Then we can query the API for each user and store their data in a JSON file. "
   ]
  },
  {
   "cell_type": "code",
   "execution_count": 5,
   "metadata": {},
   "outputs": [],
   "source": [
    "def clean_username(user_name):\n",
    "    if user_name.startswith('@'):\n",
    "        return user_name[1:].lower()\n",
    "    else:\n",
    "        return user_name.lower()"
   ]
  },
  {
   "cell_type": "code",
   "execution_count": 6,
   "metadata": {},
   "outputs": [
    {
     "data": {
      "text/plain": [
       "['jujou_24', 'liamerox', 'i_am_a_fake_account']"
      ]
     },
     "execution_count": 6,
     "metadata": {},
     "output_type": "execute_result"
    }
   ],
   "source": [
    "accounts = [clean_username(user) for user in accounts]\n",
    "accounts"
   ]
  },
  {
   "cell_type": "markdown",
   "metadata": {},
   "source": [
    "We now have our user account names ready for our Twitter query. Invalid accounts will still throw an error. "
   ]
  },
  {
   "cell_type": "code",
   "execution_count": 7,
   "metadata": {},
   "outputs": [
    {
     "name": "stdout",
     "output_type": "stream",
     "text": [
      "Finished collecting user data for ***jujou_24***. Added account name to collected list and updated status list.\n",
      "\n",
      "Finished collecting user data for ***liamerox***. Added account name to collected list and updated status list.\n",
      "\n",
      "Encountered a problem with ***i_am_a_fake_account***. Added account name to not_collected list and updata status list. Moving on through the list.\n",
      "\n"
     ]
    }
   ],
   "source": [
    "collected = []\n",
    "not_collected = []\n",
    "status = []\n",
    "\n",
    "for user in accounts:\n",
    "    try:\n",
    "        user_data = api.get_user(user)\n",
    "        collected.append(user_data)\n",
    "        print('Finished collecting user data for ***{}***. Added account name to collected list and updated status list.\\n'.format(user))\n",
    "        status.append(True)\n",
    "    except:\n",
    "        print(\"Encountered a problem with ***{}***. Added account name to not_collected list and updata status list. Moving on through the list.\\n\".format(user))\n",
    "        not_collected.append(user)\n",
    "        status.append(False)"
   ]
  },
  {
   "cell_type": "markdown",
   "metadata": {},
   "source": [
    "Now that we have collected the data from these users, we don not need to query the Twitter API *unless we want to update our dataset*. We can store this data and speed up our analysis workflow by avoiding waiting on Twitter to send us new data all the time. "
   ]
  },
  {
   "cell_type": "code",
   "execution_count": 8,
   "metadata": {},
   "outputs": [
    {
     "data": {
      "text/plain": [
       "User(_api=<tweepy.api.API object at 0x7f88c3b43ac8>, _json={'id': 216058101, 'id_str': '216058101', 'name': 'Julia', 'screen_name': 'Jujou_24', 'location': 'Suisse', 'profile_location': None, 'description': 'Woman | Mother | Daughter | Sister | Friend', 'url': None, 'entities': {'description': {'urls': []}}, 'protected': False, 'followers_count': 27, 'friends_count': 288, 'listed_count': 0, 'created_at': 'Mon Nov 15 17:48:24 +0000 2010', 'favourites_count': 10614, 'utc_offset': None, 'time_zone': None, 'geo_enabled': False, 'verified': False, 'statuses_count': 1074, 'lang': None, 'status': {'created_at': 'Fri Mar 06 09:37:53 +0000 2020', 'id': 1235862154521112577, 'id_str': '1235862154521112577', 'text': 'RT @odairannies: the way anastasia was my childhood icon https://t.co/KwUVpfZ2Ka', 'truncated': False, 'entities': {'hashtags': [], 'symbols': [], 'user_mentions': [{'screen_name': 'odairannies', 'name': 'ellie', 'id': 892544486206734336, 'id_str': '892544486206734336', 'indices': [3, 15]}], 'urls': [], 'media': [{'id': 1233442315202629632, 'id_str': '1233442315202629632', 'indices': [57, 80], 'media_url': 'http://pbs.twimg.com/media/ER4RQCiWkAAnhXs.jpg', 'media_url_https': 'https://pbs.twimg.com/media/ER4RQCiWkAAnhXs.jpg', 'url': 'https://t.co/KwUVpfZ2Ka', 'display_url': 'pic.twitter.com/KwUVpfZ2Ka', 'expanded_url': 'https://twitter.com/odairannies/status/1233443143078555648/photo/1', 'type': 'photo', 'sizes': {'small': {'w': 680, 'h': 400, 'resize': 'fit'}, 'thumb': {'w': 150, 'h': 150, 'resize': 'crop'}, 'medium': {'w': 850, 'h': 500, 'resize': 'fit'}, 'large': {'w': 850, 'h': 500, 'resize': 'fit'}}, 'source_status_id': 1233443143078555648, 'source_status_id_str': '1233443143078555648', 'source_user_id': 892544486206734336, 'source_user_id_str': '892544486206734336'}]}, 'extended_entities': {'media': [{'id': 1233442315202629632, 'id_str': '1233442315202629632', 'indices': [57, 80], 'media_url': 'http://pbs.twimg.com/media/ER4RQCiWkAAnhXs.jpg', 'media_url_https': 'https://pbs.twimg.com/media/ER4RQCiWkAAnhXs.jpg', 'url': 'https://t.co/KwUVpfZ2Ka', 'display_url': 'pic.twitter.com/KwUVpfZ2Ka', 'expanded_url': 'https://twitter.com/odairannies/status/1233443143078555648/photo/1', 'type': 'photo', 'sizes': {'small': {'w': 680, 'h': 400, 'resize': 'fit'}, 'thumb': {'w': 150, 'h': 150, 'resize': 'crop'}, 'medium': {'w': 850, 'h': 500, 'resize': 'fit'}, 'large': {'w': 850, 'h': 500, 'resize': 'fit'}}, 'source_status_id': 1233443143078555648, 'source_status_id_str': '1233443143078555648', 'source_user_id': 892544486206734336, 'source_user_id_str': '892544486206734336'}, {'id': 1233442345732972544, 'id_str': '1233442345732972544', 'indices': [57, 80], 'media_url': 'http://pbs.twimg.com/media/ER4RR0RWoAAn3B9.jpg', 'media_url_https': 'https://pbs.twimg.com/media/ER4RR0RWoAAn3B9.jpg', 'url': 'https://t.co/KwUVpfZ2Ka', 'display_url': 'pic.twitter.com/KwUVpfZ2Ka', 'expanded_url': 'https://twitter.com/odairannies/status/1233443143078555648/photo/1', 'type': 'photo', 'sizes': {'thumb': {'w': 150, 'h': 150, 'resize': 'crop'}, 'medium': {'w': 850, 'h': 500, 'resize': 'fit'}, 'small': {'w': 680, 'h': 400, 'resize': 'fit'}, 'large': {'w': 850, 'h': 500, 'resize': 'fit'}}, 'source_status_id': 1233443143078555648, 'source_status_id_str': '1233443143078555648', 'source_user_id': 892544486206734336, 'source_user_id_str': '892544486206734336'}, {'id': 1233442376770899969, 'id_str': '1233442376770899969', 'indices': [57, 80], 'media_url': 'http://pbs.twimg.com/media/ER4RTn5X0AEZsft.jpg', 'media_url_https': 'https://pbs.twimg.com/media/ER4RTn5X0AEZsft.jpg', 'url': 'https://t.co/KwUVpfZ2Ka', 'display_url': 'pic.twitter.com/KwUVpfZ2Ka', 'expanded_url': 'https://twitter.com/odairannies/status/1233443143078555648/photo/1', 'type': 'photo', 'sizes': {'thumb': {'w': 150, 'h': 150, 'resize': 'crop'}, 'small': {'w': 680, 'h': 400, 'resize': 'fit'}, 'large': {'w': 850, 'h': 500, 'resize': 'fit'}, 'medium': {'w': 850, 'h': 500, 'resize': 'fit'}}, 'source_status_id': 1233443143078555648, 'source_status_id_str': '1233443143078555648', 'source_user_id': 892544486206734336, 'source_user_id_str': '892544486206734336'}, {'id': 1233442398782574595, 'id_str': '1233442398782574595', 'indices': [57, 80], 'media_url': 'http://pbs.twimg.com/media/ER4RU55XUAMIKD9.jpg', 'media_url_https': 'https://pbs.twimg.com/media/ER4RU55XUAMIKD9.jpg', 'url': 'https://t.co/KwUVpfZ2Ka', 'display_url': 'pic.twitter.com/KwUVpfZ2Ka', 'expanded_url': 'https://twitter.com/odairannies/status/1233443143078555648/photo/1', 'type': 'photo', 'sizes': {'thumb': {'w': 150, 'h': 150, 'resize': 'crop'}, 'medium': {'w': 850, 'h': 500, 'resize': 'fit'}, 'large': {'w': 850, 'h': 500, 'resize': 'fit'}, 'small': {'w': 680, 'h': 400, 'resize': 'fit'}}, 'source_status_id': 1233443143078555648, 'source_status_id_str': '1233443143078555648', 'source_user_id': 892544486206734336, 'source_user_id_str': '892544486206734336'}]}, 'source': '<a href=\"http://twitter.com/download/iphone\" rel=\"nofollow\">Twitter for iPhone</a>', 'in_reply_to_status_id': None, 'in_reply_to_status_id_str': None, 'in_reply_to_user_id': None, 'in_reply_to_user_id_str': None, 'in_reply_to_screen_name': None, 'geo': None, 'coordinates': None, 'place': None, 'contributors': None, 'retweeted_status': {'created_at': 'Fri Feb 28 17:25:36 +0000 2020', 'id': 1233443143078555648, 'id_str': '1233443143078555648', 'text': 'the way anastasia was my childhood icon https://t.co/KwUVpfZ2Ka', 'truncated': False, 'entities': {'hashtags': [], 'symbols': [], 'user_mentions': [], 'urls': [], 'media': [{'id': 1233442315202629632, 'id_str': '1233442315202629632', 'indices': [40, 63], 'media_url': 'http://pbs.twimg.com/media/ER4RQCiWkAAnhXs.jpg', 'media_url_https': 'https://pbs.twimg.com/media/ER4RQCiWkAAnhXs.jpg', 'url': 'https://t.co/KwUVpfZ2Ka', 'display_url': 'pic.twitter.com/KwUVpfZ2Ka', 'expanded_url': 'https://twitter.com/odairannies/status/1233443143078555648/photo/1', 'type': 'photo', 'sizes': {'small': {'w': 680, 'h': 400, 'resize': 'fit'}, 'thumb': {'w': 150, 'h': 150, 'resize': 'crop'}, 'medium': {'w': 850, 'h': 500, 'resize': 'fit'}, 'large': {'w': 850, 'h': 500, 'resize': 'fit'}}}]}, 'extended_entities': {'media': [{'id': 1233442315202629632, 'id_str': '1233442315202629632', 'indices': [40, 63], 'media_url': 'http://pbs.twimg.com/media/ER4RQCiWkAAnhXs.jpg', 'media_url_https': 'https://pbs.twimg.com/media/ER4RQCiWkAAnhXs.jpg', 'url': 'https://t.co/KwUVpfZ2Ka', 'display_url': 'pic.twitter.com/KwUVpfZ2Ka', 'expanded_url': 'https://twitter.com/odairannies/status/1233443143078555648/photo/1', 'type': 'photo', 'sizes': {'small': {'w': 680, 'h': 400, 'resize': 'fit'}, 'thumb': {'w': 150, 'h': 150, 'resize': 'crop'}, 'medium': {'w': 850, 'h': 500, 'resize': 'fit'}, 'large': {'w': 850, 'h': 500, 'resize': 'fit'}}}, {'id': 1233442345732972544, 'id_str': '1233442345732972544', 'indices': [40, 63], 'media_url': 'http://pbs.twimg.com/media/ER4RR0RWoAAn3B9.jpg', 'media_url_https': 'https://pbs.twimg.com/media/ER4RR0RWoAAn3B9.jpg', 'url': 'https://t.co/KwUVpfZ2Ka', 'display_url': 'pic.twitter.com/KwUVpfZ2Ka', 'expanded_url': 'https://twitter.com/odairannies/status/1233443143078555648/photo/1', 'type': 'photo', 'sizes': {'thumb': {'w': 150, 'h': 150, 'resize': 'crop'}, 'medium': {'w': 850, 'h': 500, 'resize': 'fit'}, 'small': {'w': 680, 'h': 400, 'resize': 'fit'}, 'large': {'w': 850, 'h': 500, 'resize': 'fit'}}}, {'id': 1233442376770899969, 'id_str': '1233442376770899969', 'indices': [40, 63], 'media_url': 'http://pbs.twimg.com/media/ER4RTn5X0AEZsft.jpg', 'media_url_https': 'https://pbs.twimg.com/media/ER4RTn5X0AEZsft.jpg', 'url': 'https://t.co/KwUVpfZ2Ka', 'display_url': 'pic.twitter.com/KwUVpfZ2Ka', 'expanded_url': 'https://twitter.com/odairannies/status/1233443143078555648/photo/1', 'type': 'photo', 'sizes': {'thumb': {'w': 150, 'h': 150, 'resize': 'crop'}, 'small': {'w': 680, 'h': 400, 'resize': 'fit'}, 'large': {'w': 850, 'h': 500, 'resize': 'fit'}, 'medium': {'w': 850, 'h': 500, 'resize': 'fit'}}}, {'id': 1233442398782574595, 'id_str': '1233442398782574595', 'indices': [40, 63], 'media_url': 'http://pbs.twimg.com/media/ER4RU55XUAMIKD9.jpg', 'media_url_https': 'https://pbs.twimg.com/media/ER4RU55XUAMIKD9.jpg', 'url': 'https://t.co/KwUVpfZ2Ka', 'display_url': 'pic.twitter.com/KwUVpfZ2Ka', 'expanded_url': 'https://twitter.com/odairannies/status/1233443143078555648/photo/1', 'type': 'photo', 'sizes': {'thumb': {'w': 150, 'h': 150, 'resize': 'crop'}, 'medium': {'w': 850, 'h': 500, 'resize': 'fit'}, 'large': {'w': 850, 'h': 500, 'resize': 'fit'}, 'small': {'w': 680, 'h': 400, 'resize': 'fit'}}}]}, 'source': '<a href=\"https://mobile.twitter.com\" rel=\"nofollow\">Twitter Web App</a>', 'in_reply_to_status_id': None, 'in_reply_to_status_id_str': None, 'in_reply_to_user_id': None, 'in_reply_to_user_id_str': None, 'in_reply_to_screen_name': None, 'geo': None, 'coordinates': None, 'place': None, 'contributors': None, 'is_quote_status': False, 'retweet_count': 14530, 'favorite_count': 38056, 'favorited': False, 'retweeted': False, 'possibly_sensitive': False, 'lang': 'en'}, 'is_quote_status': False, 'retweet_count': 14530, 'favorite_count': 0, 'favorited': False, 'retweeted': False, 'possibly_sensitive': False, 'lang': 'en'}, 'contributors_enabled': False, 'is_translator': False, 'is_translation_enabled': False, 'profile_background_color': 'C0DEED', 'profile_background_image_url': 'http://abs.twimg.com/images/themes/theme1/bg.png', 'profile_background_image_url_https': 'https://abs.twimg.com/images/themes/theme1/bg.png', 'profile_background_tile': True, 'profile_image_url': 'http://pbs.twimg.com/profile_images/1232708558027882498/2JDwhNAL_normal.jpg', 'profile_image_url_https': 'https://pbs.twimg.com/profile_images/1232708558027882498/2JDwhNAL_normal.jpg', 'profile_banner_url': 'https://pbs.twimg.com/profile_banners/216058101/1582735598', 'profile_link_color': '0084B4', 'profile_sidebar_border_color': 'C0DEED', 'profile_sidebar_fill_color': 'DDEEF6', 'profile_text_color': '333333', 'profile_use_background_image': True, 'has_extended_profile': False, 'default_profile': False, 'default_profile_image': False, 'following': False, 'follow_request_sent': False, 'notifications': False, 'translator_type': 'none'}, id=216058101, id_str='216058101', name='Julia', screen_name='Jujou_24', location='Suisse', profile_location=None, description='Woman | Mother | Daughter | Sister | Friend', url=None, entities={'description': {'urls': []}}, protected=False, followers_count=27, friends_count=288, listed_count=0, created_at=datetime.datetime(2010, 11, 15, 17, 48, 24), favourites_count=10614, utc_offset=None, time_zone=None, geo_enabled=False, verified=False, statuses_count=1074, lang=None, status=Status(_api=<tweepy.api.API object at 0x7f88c3b43ac8>, _json={'created_at': 'Fri Mar 06 09:37:53 +0000 2020', 'id': 1235862154521112577, 'id_str': '1235862154521112577', 'text': 'RT @odairannies: the way anastasia was my childhood icon https://t.co/KwUVpfZ2Ka', 'truncated': False, 'entities': {'hashtags': [], 'symbols': [], 'user_mentions': [{'screen_name': 'odairannies', 'name': 'ellie', 'id': 892544486206734336, 'id_str': '892544486206734336', 'indices': [3, 15]}], 'urls': [], 'media': [{'id': 1233442315202629632, 'id_str': '1233442315202629632', 'indices': [57, 80], 'media_url': 'http://pbs.twimg.com/media/ER4RQCiWkAAnhXs.jpg', 'media_url_https': 'https://pbs.twimg.com/media/ER4RQCiWkAAnhXs.jpg', 'url': 'https://t.co/KwUVpfZ2Ka', 'display_url': 'pic.twitter.com/KwUVpfZ2Ka', 'expanded_url': 'https://twitter.com/odairannies/status/1233443143078555648/photo/1', 'type': 'photo', 'sizes': {'small': {'w': 680, 'h': 400, 'resize': 'fit'}, 'thumb': {'w': 150, 'h': 150, 'resize': 'crop'}, 'medium': {'w': 850, 'h': 500, 'resize': 'fit'}, 'large': {'w': 850, 'h': 500, 'resize': 'fit'}}, 'source_status_id': 1233443143078555648, 'source_status_id_str': '1233443143078555648', 'source_user_id': 892544486206734336, 'source_user_id_str': '892544486206734336'}]}, 'extended_entities': {'media': [{'id': 1233442315202629632, 'id_str': '1233442315202629632', 'indices': [57, 80], 'media_url': 'http://pbs.twimg.com/media/ER4RQCiWkAAnhXs.jpg', 'media_url_https': 'https://pbs.twimg.com/media/ER4RQCiWkAAnhXs.jpg', 'url': 'https://t.co/KwUVpfZ2Ka', 'display_url': 'pic.twitter.com/KwUVpfZ2Ka', 'expanded_url': 'https://twitter.com/odairannies/status/1233443143078555648/photo/1', 'type': 'photo', 'sizes': {'small': {'w': 680, 'h': 400, 'resize': 'fit'}, 'thumb': {'w': 150, 'h': 150, 'resize': 'crop'}, 'medium': {'w': 850, 'h': 500, 'resize': 'fit'}, 'large': {'w': 850, 'h': 500, 'resize': 'fit'}}, 'source_status_id': 1233443143078555648, 'source_status_id_str': '1233443143078555648', 'source_user_id': 892544486206734336, 'source_user_id_str': '892544486206734336'}, {'id': 1233442345732972544, 'id_str': '1233442345732972544', 'indices': [57, 80], 'media_url': 'http://pbs.twimg.com/media/ER4RR0RWoAAn3B9.jpg', 'media_url_https': 'https://pbs.twimg.com/media/ER4RR0RWoAAn3B9.jpg', 'url': 'https://t.co/KwUVpfZ2Ka', 'display_url': 'pic.twitter.com/KwUVpfZ2Ka', 'expanded_url': 'https://twitter.com/odairannies/status/1233443143078555648/photo/1', 'type': 'photo', 'sizes': {'thumb': {'w': 150, 'h': 150, 'resize': 'crop'}, 'medium': {'w': 850, 'h': 500, 'resize': 'fit'}, 'small': {'w': 680, 'h': 400, 'resize': 'fit'}, 'large': {'w': 850, 'h': 500, 'resize': 'fit'}}, 'source_status_id': 1233443143078555648, 'source_status_id_str': '1233443143078555648', 'source_user_id': 892544486206734336, 'source_user_id_str': '892544486206734336'}, {'id': 1233442376770899969, 'id_str': '1233442376770899969', 'indices': [57, 80], 'media_url': 'http://pbs.twimg.com/media/ER4RTn5X0AEZsft.jpg', 'media_url_https': 'https://pbs.twimg.com/media/ER4RTn5X0AEZsft.jpg', 'url': 'https://t.co/KwUVpfZ2Ka', 'display_url': 'pic.twitter.com/KwUVpfZ2Ka', 'expanded_url': 'https://twitter.com/odairannies/status/1233443143078555648/photo/1', 'type': 'photo', 'sizes': {'thumb': {'w': 150, 'h': 150, 'resize': 'crop'}, 'small': {'w': 680, 'h': 400, 'resize': 'fit'}, 'large': {'w': 850, 'h': 500, 'resize': 'fit'}, 'medium': {'w': 850, 'h': 500, 'resize': 'fit'}}, 'source_status_id': 1233443143078555648, 'source_status_id_str': '1233443143078555648', 'source_user_id': 892544486206734336, 'source_user_id_str': '892544486206734336'}, {'id': 1233442398782574595, 'id_str': '1233442398782574595', 'indices': [57, 80], 'media_url': 'http://pbs.twimg.com/media/ER4RU55XUAMIKD9.jpg', 'media_url_https': 'https://pbs.twimg.com/media/ER4RU55XUAMIKD9.jpg', 'url': 'https://t.co/KwUVpfZ2Ka', 'display_url': 'pic.twitter.com/KwUVpfZ2Ka', 'expanded_url': 'https://twitter.com/odairannies/status/1233443143078555648/photo/1', 'type': 'photo', 'sizes': {'thumb': {'w': 150, 'h': 150, 'resize': 'crop'}, 'medium': {'w': 850, 'h': 500, 'resize': 'fit'}, 'large': {'w': 850, 'h': 500, 'resize': 'fit'}, 'small': {'w': 680, 'h': 400, 'resize': 'fit'}}, 'source_status_id': 1233443143078555648, 'source_status_id_str': '1233443143078555648', 'source_user_id': 892544486206734336, 'source_user_id_str': '892544486206734336'}]}, 'source': '<a href=\"http://twitter.com/download/iphone\" rel=\"nofollow\">Twitter for iPhone</a>', 'in_reply_to_status_id': None, 'in_reply_to_status_id_str': None, 'in_reply_to_user_id': None, 'in_reply_to_user_id_str': None, 'in_reply_to_screen_name': None, 'geo': None, 'coordinates': None, 'place': None, 'contributors': None, 'retweeted_status': {'created_at': 'Fri Feb 28 17:25:36 +0000 2020', 'id': 1233443143078555648, 'id_str': '1233443143078555648', 'text': 'the way anastasia was my childhood icon https://t.co/KwUVpfZ2Ka', 'truncated': False, 'entities': {'hashtags': [], 'symbols': [], 'user_mentions': [], 'urls': [], 'media': [{'id': 1233442315202629632, 'id_str': '1233442315202629632', 'indices': [40, 63], 'media_url': 'http://pbs.twimg.com/media/ER4RQCiWkAAnhXs.jpg', 'media_url_https': 'https://pbs.twimg.com/media/ER4RQCiWkAAnhXs.jpg', 'url': 'https://t.co/KwUVpfZ2Ka', 'display_url': 'pic.twitter.com/KwUVpfZ2Ka', 'expanded_url': 'https://twitter.com/odairannies/status/1233443143078555648/photo/1', 'type': 'photo', 'sizes': {'small': {'w': 680, 'h': 400, 'resize': 'fit'}, 'thumb': {'w': 150, 'h': 150, 'resize': 'crop'}, 'medium': {'w': 850, 'h': 500, 'resize': 'fit'}, 'large': {'w': 850, 'h': 500, 'resize': 'fit'}}}]}, 'extended_entities': {'media': [{'id': 1233442315202629632, 'id_str': '1233442315202629632', 'indices': [40, 63], 'media_url': 'http://pbs.twimg.com/media/ER4RQCiWkAAnhXs.jpg', 'media_url_https': 'https://pbs.twimg.com/media/ER4RQCiWkAAnhXs.jpg', 'url': 'https://t.co/KwUVpfZ2Ka', 'display_url': 'pic.twitter.com/KwUVpfZ2Ka', 'expanded_url': 'https://twitter.com/odairannies/status/1233443143078555648/photo/1', 'type': 'photo', 'sizes': {'small': {'w': 680, 'h': 400, 'resize': 'fit'}, 'thumb': {'w': 150, 'h': 150, 'resize': 'crop'}, 'medium': {'w': 850, 'h': 500, 'resize': 'fit'}, 'large': {'w': 850, 'h': 500, 'resize': 'fit'}}}, {'id': 1233442345732972544, 'id_str': '1233442345732972544', 'indices': [40, 63], 'media_url': 'http://pbs.twimg.com/media/ER4RR0RWoAAn3B9.jpg', 'media_url_https': 'https://pbs.twimg.com/media/ER4RR0RWoAAn3B9.jpg', 'url': 'https://t.co/KwUVpfZ2Ka', 'display_url': 'pic.twitter.com/KwUVpfZ2Ka', 'expanded_url': 'https://twitter.com/odairannies/status/1233443143078555648/photo/1', 'type': 'photo', 'sizes': {'thumb': {'w': 150, 'h': 150, 'resize': 'crop'}, 'medium': {'w': 850, 'h': 500, 'resize': 'fit'}, 'small': {'w': 680, 'h': 400, 'resize': 'fit'}, 'large': {'w': 850, 'h': 500, 'resize': 'fit'}}}, {'id': 1233442376770899969, 'id_str': '1233442376770899969', 'indices': [40, 63], 'media_url': 'http://pbs.twimg.com/media/ER4RTn5X0AEZsft.jpg', 'media_url_https': 'https://pbs.twimg.com/media/ER4RTn5X0AEZsft.jpg', 'url': 'https://t.co/KwUVpfZ2Ka', 'display_url': 'pic.twitter.com/KwUVpfZ2Ka', 'expanded_url': 'https://twitter.com/odairannies/status/1233443143078555648/photo/1', 'type': 'photo', 'sizes': {'thumb': {'w': 150, 'h': 150, 'resize': 'crop'}, 'small': {'w': 680, 'h': 400, 'resize': 'fit'}, 'large': {'w': 850, 'h': 500, 'resize': 'fit'}, 'medium': {'w': 850, 'h': 500, 'resize': 'fit'}}}, {'id': 1233442398782574595, 'id_str': '1233442398782574595', 'indices': [40, 63], 'media_url': 'http://pbs.twimg.com/media/ER4RU55XUAMIKD9.jpg', 'media_url_https': 'https://pbs.twimg.com/media/ER4RU55XUAMIKD9.jpg', 'url': 'https://t.co/KwUVpfZ2Ka', 'display_url': 'pic.twitter.com/KwUVpfZ2Ka', 'expanded_url': 'https://twitter.com/odairannies/status/1233443143078555648/photo/1', 'type': 'photo', 'sizes': {'thumb': {'w': 150, 'h': 150, 'resize': 'crop'}, 'medium': {'w': 850, 'h': 500, 'resize': 'fit'}, 'large': {'w': 850, 'h': 500, 'resize': 'fit'}, 'small': {'w': 680, 'h': 400, 'resize': 'fit'}}}]}, 'source': '<a href=\"https://mobile.twitter.com\" rel=\"nofollow\">Twitter Web App</a>', 'in_reply_to_status_id': None, 'in_reply_to_status_id_str': None, 'in_reply_to_user_id': None, 'in_reply_to_user_id_str': None, 'in_reply_to_screen_name': None, 'geo': None, 'coordinates': None, 'place': None, 'contributors': None, 'is_quote_status': False, 'retweet_count': 14530, 'favorite_count': 38056, 'favorited': False, 'retweeted': False, 'possibly_sensitive': False, 'lang': 'en'}, 'is_quote_status': False, 'retweet_count': 14530, 'favorite_count': 0, 'favorited': False, 'retweeted': False, 'possibly_sensitive': False, 'lang': 'en'}, created_at=datetime.datetime(2020, 3, 6, 9, 37, 53), id=1235862154521112577, id_str='1235862154521112577', text='RT @odairannies: the way anastasia was my childhood icon https://t.co/KwUVpfZ2Ka', truncated=False, entities={'hashtags': [], 'symbols': [], 'user_mentions': [{'screen_name': 'odairannies', 'name': 'ellie', 'id': 892544486206734336, 'id_str': '892544486206734336', 'indices': [3, 15]}], 'urls': [], 'media': [{'id': 1233442315202629632, 'id_str': '1233442315202629632', 'indices': [57, 80], 'media_url': 'http://pbs.twimg.com/media/ER4RQCiWkAAnhXs.jpg', 'media_url_https': 'https://pbs.twimg.com/media/ER4RQCiWkAAnhXs.jpg', 'url': 'https://t.co/KwUVpfZ2Ka', 'display_url': 'pic.twitter.com/KwUVpfZ2Ka', 'expanded_url': 'https://twitter.com/odairannies/status/1233443143078555648/photo/1', 'type': 'photo', 'sizes': {'small': {'w': 680, 'h': 400, 'resize': 'fit'}, 'thumb': {'w': 150, 'h': 150, 'resize': 'crop'}, 'medium': {'w': 850, 'h': 500, 'resize': 'fit'}, 'large': {'w': 850, 'h': 500, 'resize': 'fit'}}, 'source_status_id': 1233443143078555648, 'source_status_id_str': '1233443143078555648', 'source_user_id': 892544486206734336, 'source_user_id_str': '892544486206734336'}]}, extended_entities={'media': [{'id': 1233442315202629632, 'id_str': '1233442315202629632', 'indices': [57, 80], 'media_url': 'http://pbs.twimg.com/media/ER4RQCiWkAAnhXs.jpg', 'media_url_https': 'https://pbs.twimg.com/media/ER4RQCiWkAAnhXs.jpg', 'url': 'https://t.co/KwUVpfZ2Ka', 'display_url': 'pic.twitter.com/KwUVpfZ2Ka', 'expanded_url': 'https://twitter.com/odairannies/status/1233443143078555648/photo/1', 'type': 'photo', 'sizes': {'small': {'w': 680, 'h': 400, 'resize': 'fit'}, 'thumb': {'w': 150, 'h': 150, 'resize': 'crop'}, 'medium': {'w': 850, 'h': 500, 'resize': 'fit'}, 'large': {'w': 850, 'h': 500, 'resize': 'fit'}}, 'source_status_id': 1233443143078555648, 'source_status_id_str': '1233443143078555648', 'source_user_id': 892544486206734336, 'source_user_id_str': '892544486206734336'}, {'id': 1233442345732972544, 'id_str': '1233442345732972544', 'indices': [57, 80], 'media_url': 'http://pbs.twimg.com/media/ER4RR0RWoAAn3B9.jpg', 'media_url_https': 'https://pbs.twimg.com/media/ER4RR0RWoAAn3B9.jpg', 'url': 'https://t.co/KwUVpfZ2Ka', 'display_url': 'pic.twitter.com/KwUVpfZ2Ka', 'expanded_url': 'https://twitter.com/odairannies/status/1233443143078555648/photo/1', 'type': 'photo', 'sizes': {'thumb': {'w': 150, 'h': 150, 'resize': 'crop'}, 'medium': {'w': 850, 'h': 500, 'resize': 'fit'}, 'small': {'w': 680, 'h': 400, 'resize': 'fit'}, 'large': {'w': 850, 'h': 500, 'resize': 'fit'}}, 'source_status_id': 1233443143078555648, 'source_status_id_str': '1233443143078555648', 'source_user_id': 892544486206734336, 'source_user_id_str': '892544486206734336'}, {'id': 1233442376770899969, 'id_str': '1233442376770899969', 'indices': [57, 80], 'media_url': 'http://pbs.twimg.com/media/ER4RTn5X0AEZsft.jpg', 'media_url_https': 'https://pbs.twimg.com/media/ER4RTn5X0AEZsft.jpg', 'url': 'https://t.co/KwUVpfZ2Ka', 'display_url': 'pic.twitter.com/KwUVpfZ2Ka', 'expanded_url': 'https://twitter.com/odairannies/status/1233443143078555648/photo/1', 'type': 'photo', 'sizes': {'thumb': {'w': 150, 'h': 150, 'resize': 'crop'}, 'small': {'w': 680, 'h': 400, 'resize': 'fit'}, 'large': {'w': 850, 'h': 500, 'resize': 'fit'}, 'medium': {'w': 850, 'h': 500, 'resize': 'fit'}}, 'source_status_id': 1233443143078555648, 'source_status_id_str': '1233443143078555648', 'source_user_id': 892544486206734336, 'source_user_id_str': '892544486206734336'}, {'id': 1233442398782574595, 'id_str': '1233442398782574595', 'indices': [57, 80], 'media_url': 'http://pbs.twimg.com/media/ER4RU55XUAMIKD9.jpg', 'media_url_https': 'https://pbs.twimg.com/media/ER4RU55XUAMIKD9.jpg', 'url': 'https://t.co/KwUVpfZ2Ka', 'display_url': 'pic.twitter.com/KwUVpfZ2Ka', 'expanded_url': 'https://twitter.com/odairannies/status/1233443143078555648/photo/1', 'type': 'photo', 'sizes': {'thumb': {'w': 150, 'h': 150, 'resize': 'crop'}, 'medium': {'w': 850, 'h': 500, 'resize': 'fit'}, 'large': {'w': 850, 'h': 500, 'resize': 'fit'}, 'small': {'w': 680, 'h': 400, 'resize': 'fit'}}, 'source_status_id': 1233443143078555648, 'source_status_id_str': '1233443143078555648', 'source_user_id': 892544486206734336, 'source_user_id_str': '892544486206734336'}]}, source='Twitter for iPhone', source_url='http://twitter.com/download/iphone', in_reply_to_status_id=None, in_reply_to_status_id_str=None, in_reply_to_user_id=None, in_reply_to_user_id_str=None, in_reply_to_screen_name=None, geo=None, coordinates=None, place=None, contributors=None, retweeted_status=Status(_api=<tweepy.api.API object at 0x7f88c3b43ac8>, _json={'created_at': 'Fri Feb 28 17:25:36 +0000 2020', 'id': 1233443143078555648, 'id_str': '1233443143078555648', 'text': 'the way anastasia was my childhood icon https://t.co/KwUVpfZ2Ka', 'truncated': False, 'entities': {'hashtags': [], 'symbols': [], 'user_mentions': [], 'urls': [], 'media': [{'id': 1233442315202629632, 'id_str': '1233442315202629632', 'indices': [40, 63], 'media_url': 'http://pbs.twimg.com/media/ER4RQCiWkAAnhXs.jpg', 'media_url_https': 'https://pbs.twimg.com/media/ER4RQCiWkAAnhXs.jpg', 'url': 'https://t.co/KwUVpfZ2Ka', 'display_url': 'pic.twitter.com/KwUVpfZ2Ka', 'expanded_url': 'https://twitter.com/odairannies/status/1233443143078555648/photo/1', 'type': 'photo', 'sizes': {'small': {'w': 680, 'h': 400, 'resize': 'fit'}, 'thumb': {'w': 150, 'h': 150, 'resize': 'crop'}, 'medium': {'w': 850, 'h': 500, 'resize': 'fit'}, 'large': {'w': 850, 'h': 500, 'resize': 'fit'}}}]}, 'extended_entities': {'media': [{'id': 1233442315202629632, 'id_str': '1233442315202629632', 'indices': [40, 63], 'media_url': 'http://pbs.twimg.com/media/ER4RQCiWkAAnhXs.jpg', 'media_url_https': 'https://pbs.twimg.com/media/ER4RQCiWkAAnhXs.jpg', 'url': 'https://t.co/KwUVpfZ2Ka', 'display_url': 'pic.twitter.com/KwUVpfZ2Ka', 'expanded_url': 'https://twitter.com/odairannies/status/1233443143078555648/photo/1', 'type': 'photo', 'sizes': {'small': {'w': 680, 'h': 400, 'resize': 'fit'}, 'thumb': {'w': 150, 'h': 150, 'resize': 'crop'}, 'medium': {'w': 850, 'h': 500, 'resize': 'fit'}, 'large': {'w': 850, 'h': 500, 'resize': 'fit'}}}, {'id': 1233442345732972544, 'id_str': '1233442345732972544', 'indices': [40, 63], 'media_url': 'http://pbs.twimg.com/media/ER4RR0RWoAAn3B9.jpg', 'media_url_https': 'https://pbs.twimg.com/media/ER4RR0RWoAAn3B9.jpg', 'url': 'https://t.co/KwUVpfZ2Ka', 'display_url': 'pic.twitter.com/KwUVpfZ2Ka', 'expanded_url': 'https://twitter.com/odairannies/status/1233443143078555648/photo/1', 'type': 'photo', 'sizes': {'thumb': {'w': 150, 'h': 150, 'resize': 'crop'}, 'medium': {'w': 850, 'h': 500, 'resize': 'fit'}, 'small': {'w': 680, 'h': 400, 'resize': 'fit'}, 'large': {'w': 850, 'h': 500, 'resize': 'fit'}}}, {'id': 1233442376770899969, 'id_str': '1233442376770899969', 'indices': [40, 63], 'media_url': 'http://pbs.twimg.com/media/ER4RTn5X0AEZsft.jpg', 'media_url_https': 'https://pbs.twimg.com/media/ER4RTn5X0AEZsft.jpg', 'url': 'https://t.co/KwUVpfZ2Ka', 'display_url': 'pic.twitter.com/KwUVpfZ2Ka', 'expanded_url': 'https://twitter.com/odairannies/status/1233443143078555648/photo/1', 'type': 'photo', 'sizes': {'thumb': {'w': 150, 'h': 150, 'resize': 'crop'}, 'small': {'w': 680, 'h': 400, 'resize': 'fit'}, 'large': {'w': 850, 'h': 500, 'resize': 'fit'}, 'medium': {'w': 850, 'h': 500, 'resize': 'fit'}}}, {'id': 1233442398782574595, 'id_str': '1233442398782574595', 'indices': [40, 63], 'media_url': 'http://pbs.twimg.com/media/ER4RU55XUAMIKD9.jpg', 'media_url_https': 'https://pbs.twimg.com/media/ER4RU55XUAMIKD9.jpg', 'url': 'https://t.co/KwUVpfZ2Ka', 'display_url': 'pic.twitter.com/KwUVpfZ2Ka', 'expanded_url': 'https://twitter.com/odairannies/status/1233443143078555648/photo/1', 'type': 'photo', 'sizes': {'thumb': {'w': 150, 'h': 150, 'resize': 'crop'}, 'medium': {'w': 850, 'h': 500, 'resize': 'fit'}, 'large': {'w': 850, 'h': 500, 'resize': 'fit'}, 'small': {'w': 680, 'h': 400, 'resize': 'fit'}}}]}, 'source': '<a href=\"https://mobile.twitter.com\" rel=\"nofollow\">Twitter Web App</a>', 'in_reply_to_status_id': None, 'in_reply_to_status_id_str': None, 'in_reply_to_user_id': None, 'in_reply_to_user_id_str': None, 'in_reply_to_screen_name': None, 'geo': None, 'coordinates': None, 'place': None, 'contributors': None, 'is_quote_status': False, 'retweet_count': 14530, 'favorite_count': 38056, 'favorited': False, 'retweeted': False, 'possibly_sensitive': False, 'lang': 'en'}, created_at=datetime.datetime(2020, 2, 28, 17, 25, 36), id=1233443143078555648, id_str='1233443143078555648', text='the way anastasia was my childhood icon https://t.co/KwUVpfZ2Ka', truncated=False, entities={'hashtags': [], 'symbols': [], 'user_mentions': [], 'urls': [], 'media': [{'id': 1233442315202629632, 'id_str': '1233442315202629632', 'indices': [40, 63], 'media_url': 'http://pbs.twimg.com/media/ER4RQCiWkAAnhXs.jpg', 'media_url_https': 'https://pbs.twimg.com/media/ER4RQCiWkAAnhXs.jpg', 'url': 'https://t.co/KwUVpfZ2Ka', 'display_url': 'pic.twitter.com/KwUVpfZ2Ka', 'expanded_url': 'https://twitter.com/odairannies/status/1233443143078555648/photo/1', 'type': 'photo', 'sizes': {'small': {'w': 680, 'h': 400, 'resize': 'fit'}, 'thumb': {'w': 150, 'h': 150, 'resize': 'crop'}, 'medium': {'w': 850, 'h': 500, 'resize': 'fit'}, 'large': {'w': 850, 'h': 500, 'resize': 'fit'}}}]}, extended_entities={'media': [{'id': 1233442315202629632, 'id_str': '1233442315202629632', 'indices': [40, 63], 'media_url': 'http://pbs.twimg.com/media/ER4RQCiWkAAnhXs.jpg', 'media_url_https': 'https://pbs.twimg.com/media/ER4RQCiWkAAnhXs.jpg', 'url': 'https://t.co/KwUVpfZ2Ka', 'display_url': 'pic.twitter.com/KwUVpfZ2Ka', 'expanded_url': 'https://twitter.com/odairannies/status/1233443143078555648/photo/1', 'type': 'photo', 'sizes': {'small': {'w': 680, 'h': 400, 'resize': 'fit'}, 'thumb': {'w': 150, 'h': 150, 'resize': 'crop'}, 'medium': {'w': 850, 'h': 500, 'resize': 'fit'}, 'large': {'w': 850, 'h': 500, 'resize': 'fit'}}}, {'id': 1233442345732972544, 'id_str': '1233442345732972544', 'indices': [40, 63], 'media_url': 'http://pbs.twimg.com/media/ER4RR0RWoAAn3B9.jpg', 'media_url_https': 'https://pbs.twimg.com/media/ER4RR0RWoAAn3B9.jpg', 'url': 'https://t.co/KwUVpfZ2Ka', 'display_url': 'pic.twitter.com/KwUVpfZ2Ka', 'expanded_url': 'https://twitter.com/odairannies/status/1233443143078555648/photo/1', 'type': 'photo', 'sizes': {'thumb': {'w': 150, 'h': 150, 'resize': 'crop'}, 'medium': {'w': 850, 'h': 500, 'resize': 'fit'}, 'small': {'w': 680, 'h': 400, 'resize': 'fit'}, 'large': {'w': 850, 'h': 500, 'resize': 'fit'}}}, {'id': 1233442376770899969, 'id_str': '1233442376770899969', 'indices': [40, 63], 'media_url': 'http://pbs.twimg.com/media/ER4RTn5X0AEZsft.jpg', 'media_url_https': 'https://pbs.twimg.com/media/ER4RTn5X0AEZsft.jpg', 'url': 'https://t.co/KwUVpfZ2Ka', 'display_url': 'pic.twitter.com/KwUVpfZ2Ka', 'expanded_url': 'https://twitter.com/odairannies/status/1233443143078555648/photo/1', 'type': 'photo', 'sizes': {'thumb': {'w': 150, 'h': 150, 'resize': 'crop'}, 'small': {'w': 680, 'h': 400, 'resize': 'fit'}, 'large': {'w': 850, 'h': 500, 'resize': 'fit'}, 'medium': {'w': 850, 'h': 500, 'resize': 'fit'}}}, {'id': 1233442398782574595, 'id_str': '1233442398782574595', 'indices': [40, 63], 'media_url': 'http://pbs.twimg.com/media/ER4RU55XUAMIKD9.jpg', 'media_url_https': 'https://pbs.twimg.com/media/ER4RU55XUAMIKD9.jpg', 'url': 'https://t.co/KwUVpfZ2Ka', 'display_url': 'pic.twitter.com/KwUVpfZ2Ka', 'expanded_url': 'https://twitter.com/odairannies/status/1233443143078555648/photo/1', 'type': 'photo', 'sizes': {'thumb': {'w': 150, 'h': 150, 'resize': 'crop'}, 'medium': {'w': 850, 'h': 500, 'resize': 'fit'}, 'large': {'w': 850, 'h': 500, 'resize': 'fit'}, 'small': {'w': 680, 'h': 400, 'resize': 'fit'}}}]}, source='Twitter Web App', source_url='https://mobile.twitter.com', in_reply_to_status_id=None, in_reply_to_status_id_str=None, in_reply_to_user_id=None, in_reply_to_user_id_str=None, in_reply_to_screen_name=None, geo=None, coordinates=None, place=None, contributors=None, is_quote_status=False, retweet_count=14530, favorite_count=38056, favorited=False, retweeted=False, possibly_sensitive=False, lang='en'), is_quote_status=False, retweet_count=14530, favorite_count=0, favorited=False, retweeted=False, possibly_sensitive=False, lang='en'), contributors_enabled=False, is_translator=False, is_translation_enabled=False, profile_background_color='C0DEED', profile_background_image_url='http://abs.twimg.com/images/themes/theme1/bg.png', profile_background_image_url_https='https://abs.twimg.com/images/themes/theme1/bg.png', profile_background_tile=True, profile_image_url='http://pbs.twimg.com/profile_images/1232708558027882498/2JDwhNAL_normal.jpg', profile_image_url_https='https://pbs.twimg.com/profile_images/1232708558027882498/2JDwhNAL_normal.jpg', profile_banner_url='https://pbs.twimg.com/profile_banners/216058101/1582735598', profile_link_color='0084B4', profile_sidebar_border_color='C0DEED', profile_sidebar_fill_color='DDEEF6', profile_text_color='333333', profile_use_background_image=True, has_extended_profile=False, default_profile=False, default_profile_image=False, following=False, follow_request_sent=False, notifications=False, translator_type='none')"
      ]
     },
     "execution_count": 8,
     "metadata": {},
     "output_type": "execute_result"
    }
   ],
   "source": [
    "collected[0]"
   ]
  },
  {
   "cell_type": "code",
   "execution_count": 9,
   "metadata": {},
   "outputs": [
    {
     "data": {
      "text/plain": [
       "2"
      ]
     },
     "execution_count": 9,
     "metadata": {},
     "output_type": "execute_result"
    }
   ],
   "source": [
    "len(collected)"
   ]
  },
  {
   "cell_type": "code",
   "execution_count": 10,
   "metadata": {},
   "outputs": [
    {
     "data": {
      "text/plain": [
       "1"
      ]
     },
     "execution_count": 10,
     "metadata": {},
     "output_type": "execute_result"
    }
   ],
   "source": [
    "len(not_collected)"
   ]
  },
  {
   "cell_type": "code",
   "execution_count": 11,
   "metadata": {},
   "outputs": [
    {
     "data": {
      "text/plain": [
       "3"
      ]
     },
     "execution_count": 11,
     "metadata": {},
     "output_type": "execute_result"
    }
   ],
   "source": [
    "len(status)"
   ]
  },
  {
   "cell_type": "code",
   "execution_count": 12,
   "metadata": {},
   "outputs": [
    {
     "data": {
      "text/plain": [
       "[True, True, False]"
      ]
     },
     "execution_count": 12,
     "metadata": {},
     "output_type": "execute_result"
    }
   ],
   "source": [
    "status"
   ]
  },
  {
   "cell_type": "markdown",
   "metadata": {},
   "source": [
    "Let's define a function that gets the data we want from each user whose data is stored in the `collected` list. "
   ]
  },
  {
   "cell_type": "code",
   "execution_count": 13,
   "metadata": {},
   "outputs": [],
   "source": [
    "def get_the_interesting_shit(user_account):\n",
    "    # here is where we will put our user data \n",
    "    user_dict = {}\n",
    "    \n",
    "    user_dict['unique_id_number'] = user_account.id\n",
    "    user_dict['screen_name'] = user_account.screen_name\n",
    "    user_dict['description'] = user_account.description\n",
    "    user_dict['location'] = user_account.location\n",
    "    user_dict['followers_num'] = user_account.followers_count\n",
    "    user_dict['friends_num'] = user_account.friends_count\n",
    "    user_dict['protection_boolean'] = user_account.protected\n",
    "    \n",
    "    return user_dict    "
   ]
  },
  {
   "cell_type": "code",
   "execution_count": 14,
   "metadata": {},
   "outputs": [],
   "source": [
    "the_user_data = []\n",
    "\n",
    "for account in collected:\n",
    "    the_user_data.append(get_the_interesting_shit(account))"
   ]
  },
  {
   "cell_type": "markdown",
   "metadata": {},
   "source": [
    "We now have a list of dicts. That can go straight into a `dataframe`. "
   ]
  },
  {
   "cell_type": "code",
   "execution_count": 15,
   "metadata": {},
   "outputs": [
    {
     "data": {
      "text/plain": [
       "[{'unique_id_number': 216058101,\n",
       "  'screen_name': 'Jujou_24',\n",
       "  'description': 'Woman | Mother | Daughter | Sister | Friend',\n",
       "  'location': 'Suisse',\n",
       "  'followers_num': 27,\n",
       "  'friends_num': 288,\n",
       "  'protection_boolean': False},\n",
       " {'unique_id_number': 1912214276,\n",
       "  'screen_name': 'liamerox',\n",
       "  'description': '',\n",
       "  'location': 'Gland bord du lac LEMAN ',\n",
       "  'followers_num': 16,\n",
       "  'friends_num': 92,\n",
       "  'protection_boolean': False}]"
      ]
     },
     "execution_count": 15,
     "metadata": {},
     "output_type": "execute_result"
    }
   ],
   "source": [
    "the_user_data"
   ]
  },
  {
   "cell_type": "code",
   "execution_count": 16,
   "metadata": {},
   "outputs": [
    {
     "data": {
      "text/html": [
       "<div>\n",
       "<style scoped>\n",
       "    .dataframe tbody tr th:only-of-type {\n",
       "        vertical-align: middle;\n",
       "    }\n",
       "\n",
       "    .dataframe tbody tr th {\n",
       "        vertical-align: top;\n",
       "    }\n",
       "\n",
       "    .dataframe thead th {\n",
       "        text-align: right;\n",
       "    }\n",
       "</style>\n",
       "<table border=\"1\" class=\"dataframe\">\n",
       "  <thead>\n",
       "    <tr style=\"text-align: right;\">\n",
       "      <th></th>\n",
       "      <th>unique_id_number</th>\n",
       "      <th>screen_name</th>\n",
       "      <th>description</th>\n",
       "      <th>location</th>\n",
       "      <th>followers_num</th>\n",
       "      <th>friends_num</th>\n",
       "      <th>protection_boolean</th>\n",
       "    </tr>\n",
       "  </thead>\n",
       "  <tbody>\n",
       "    <tr>\n",
       "      <th>0</th>\n",
       "      <td>216058101</td>\n",
       "      <td>Jujou_24</td>\n",
       "      <td>Woman | Mother | Daughter | Sister | Friend</td>\n",
       "      <td>Suisse</td>\n",
       "      <td>27</td>\n",
       "      <td>288</td>\n",
       "      <td>False</td>\n",
       "    </tr>\n",
       "    <tr>\n",
       "      <th>1</th>\n",
       "      <td>1912214276</td>\n",
       "      <td>liamerox</td>\n",
       "      <td></td>\n",
       "      <td>Gland bord du lac LEMAN</td>\n",
       "      <td>16</td>\n",
       "      <td>92</td>\n",
       "      <td>False</td>\n",
       "    </tr>\n",
       "  </tbody>\n",
       "</table>\n",
       "</div>"
      ],
      "text/plain": [
       "   unique_id_number screen_name                                  description  \\\n",
       "0         216058101    Jujou_24  Woman | Mother | Daughter | Sister | Friend   \n",
       "1        1912214276    liamerox                                                \n",
       "\n",
       "                   location  followers_num  friends_num  protection_boolean  \n",
       "0                    Suisse             27          288               False  \n",
       "1  Gland bord du lac LEMAN              16           92               False  "
      ]
     },
     "execution_count": 16,
     "metadata": {},
     "output_type": "execute_result"
    }
   ],
   "source": [
    "df = pd.DataFrame(the_user_data)\n",
    "df"
   ]
  },
  {
   "cell_type": "code",
   "execution_count": 17,
   "metadata": {},
   "outputs": [],
   "source": [
    "df.to_csv('data/users.csv', index=False)"
   ]
  },
  {
   "cell_type": "code",
   "execution_count": null,
   "metadata": {},
   "outputs": [],
   "source": []
  },
  {
   "cell_type": "code",
   "execution_count": null,
   "metadata": {},
   "outputs": [],
   "source": []
  }
 ],
 "metadata": {
  "kernelspec": {
   "display_name": "Python 3",
   "language": "python",
   "name": "python3"
  },
  "language_info": {
   "codemirror_mode": {
    "name": "ipython",
    "version": 3
   },
   "file_extension": ".py",
   "mimetype": "text/x-python",
   "name": "python",
   "nbconvert_exporter": "python",
   "pygments_lexer": "ipython3",
   "version": "3.6.9"
  }
 },
 "nbformat": 4,
 "nbformat_minor": 2
}
