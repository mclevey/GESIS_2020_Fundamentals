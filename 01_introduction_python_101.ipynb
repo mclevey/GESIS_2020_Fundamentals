{
 "cells": [
  {
   "cell_type": "markdown",
   "metadata": {},
   "source": [
    "# FUNDAMENTALS OF DATA ANALYSIS WITH PYTHON <br><font color=\"crimson\">DAY 1: FUNDAMENTALS OF PYTHON FOR RESEARCHERS </font>\n",
    "\n",
    "49th [GESIS Spring Seminar: Digital Behavioral Data](https://training.gesis.org/?site=pDetails&pID=0xA33E4024A2554302B3EF4AECFC3484FD)   \n",
    "Cologne, Germany, March 2-6 2010\n",
    "\n",
    "### Course Developers and Instructors \n",
    "\n",
    "* Dr. [John McLevey](www.johnmclevey.com), University of Waterloo (john.mclevey@uwaterloo.ca)     \n",
    "* [Jillian Anderson](https://ca.linkedin.com/in/jillian-anderson-34435714a?challengeId=AQGaFXECVnyVqAAAAW_TLnwJ9VHAlBfinArnfKV6DqlEBpTIolp6O2Bau4MmjzZNgXlHqEIpS5piD4nNjEy0wsqNo-aZGkj57A&submissionId=16582ced-1f90-ec15-cddf-eb876f4fe004), Simon Fraser University (jillianderson8@gmail.com) \n",
    "\n",
    "<hr>\n",
    "\n",
    "## <i class=\"fa fa-book\"></i> A NOTE ON THE SYLLABUS AND READINGS \n",
    "\n",
    "There is a syllabus posted on the [learning system](https://ilias.gesis.org/). We plan to cover everything on the styllabus, but we made some last minute changes to the sequence topics are presented in. This is to ensure to necessary content is presented in the best order for learning, and to get you working with data as quickly as possible. \n",
    "\n",
    "There are a number of readings posted on the learning system. We have provided these as supplementary resources. We encourage you to read some of them, but it is possible to understand all of the material in these notebooks without them. If you are pressed for time, it is better to focus on understanding what is going on in these notebooks. \n",
    "\n",
    "## <i class=\"fa fa-tasks\"></i> OVERVIEW \n",
    "\n",
    "This notebook focuses on some fundamentals of Python programming with social scientists in mind. We will cover general Python basics, from manipulating simple data types like `strings` to writing your own functions. Our goal is to **lay a foundation** that we can build on in the rest of the week. \n",
    "\n",
    "If you are new to programming, this may seem like a lot of new information to process and skills to master. *No need to worry.* You will continue to learn and develop over the course of the week. Concepts introduced here will be reinforced later. Focus on understanding; mastery will come with time and practice. \n",
    "\n",
    "## <i class=\"fa fa-map-o\"></i> PLAN FOR THE DAY\n",
    "\n",
    "<i class=\"fa fa-location-arrow\"></i> [General introductions](#intro)     \n",
    "<i class=\"fa fa-location-arrow\"></i> [Overview of the course](#overview)      \n",
    "<i class=\"fa fa-location-arrow\"></i> [Getting started with Python and Jupyter Notebooks](#starting)       \n",
    "<i class=\"fa fa-location-arrow\"></i> [Simple data types, variables, and assignment](#datatypes)      \n",
    "<i class=\"fa fa-location-arrow\"></i> [Functions](#functions)  \n",
    "<i class=\"fa fa-location-arrow\"></i> [Flow control and conditionals](#conditional)    \n",
    "<i class=\"fa fa-location-arrow\"></i> [Lists and tuples](#lts)    \n",
    "<i class=\"fa fa-location-arrow\"></i> [Dictionaries](#dicts)    \n",
    "<i class=\"fa fa-location-arrow\"></i> [Open Work Time](#open)\n",
    "\n",
    "<hr>"
   ]
  },
  {
   "cell_type": "markdown",
   "metadata": {},
   "source": [
    "# <i class=\"fa fa-users\"></i> General Introductions <a id='intro'></a>\n",
    "\n",
    "## <i class=\"fa fa-user\"></i> John\n",
    "\n",
    "* Associate Professor, University of Waterloo, Ontario, Canada \n",
    "* PhD in Sociology, 2013\n",
    "* Research Interests:\n",
    "    * Computational Social Science (Network Analysis, Applied Natural Language Processing, Machine Learning)\n",
    "    * Cognitive Social Science, Environmental Movements and Governance, Democracy and the Politics of Knowledge and Information \n",
    "* PI [Netlab](networkslab.org) @ the University of Waterloo\n",
    "* McLevey. 2020. *Doing Computational Social Science*, London: Sage. \n",
    "* Python packages: `metaknowledge`, `nate`, `pdpp`, etc. \n",
    "    * <i class=\"fa fa-github\"></i> [github.com/UWNETLAB](https://github.com/UWNETLAB) \n",
    "* Other interests: \n",
    "    * Hiking, cycling, strength training, squash, design, travel, photography  \n",
    "\n",
    "## <i class=\"fa fa-user\"></i> Jillian\n",
    "\n",
    "* Big Data Developer, Simon Fraser University, British Columbia, Canada\n",
    "* Bachelor's in Knowledge Integration and Computer Science (minor) from the University of Waterloo\n",
    "* MSc in Computing Science and Big Data from Simon Fraser University \n",
    "* Extensive experience developing in Python, R, Java, C, and Javascript\n",
    "* 2016-2018, Data Scientist @ [Netlab](networkslab.org)\n",
    "* Development Interests: \n",
    "    * high performance computing, data science for agriculture,  and the social and ethical implications of data science work.\n",
    "* Other interests: \n",
    "    * Squash, backcountry camping, cycling, cooking, & skiing. \n",
    "\n",
    "## <i class=\"fa fa-user\"></i> Who Are You? \n",
    "\n",
    "* Where you are coming from?\n",
    "* What are your primary research interests?\n",
    "* What do you most hope to get out of the course?\n",
    "* Do you have programming experience in Python, R, or other languages?\n",
    "\n",
    "## <i class=\"fa fa-tasks\"></i> OVERVIEW OF THE COURSE<a id='over'></a>\n",
    "\n",
    "* Day 1: **Python 101**\n",
    "    * Emphasis on laying a foundation \n",
    "    * A little *general* knowledge of Python goes a very long way\n",
    "* Day 2: **Getting Data From the Web**\n",
    "    * Web scraping \n",
    "    * Application Programming Interfaces (APIs)\n",
    "* Day 3: **Scientific computing / research computing 101** \n",
    "    * Emphasis on `pandas`\n",
    "* Day 4: **Data Visualization**\n",
    "    * Emphasis on `matplotlib` and `seaborn`\n",
    "* Day 5: **Open Day**\n",
    "    * Data Analysis Challenges \n",
    "    * Questions and Review \n",
    "    * 1:1 Consultations on Research Projects \n",
    "    * *If there is interest*: A brief introduction to working with unstructured text \n",
    "\n",
    "By the end of this week, you will have a solid foundation for working with digital behavioural data and applying methods from computational social science and social data science, such as machine learning methods and network analysis. \n",
    "\n",
    "## Process\n",
    "\n",
    "<i class=\"fa fa-question-circle\"></i> Please **ask questions at any time**. If you have a question, someone else probably does too. \n",
    "\n",
    "<i class=\"fa fa-refresh\"></i> We want to meet you where you are, which means we might make some minor revisions to the materials over the course of the week. If we make changes to these notebooks, we will provide you with the updated versions at the start of the day. "
   ]
  },
  {
   "cell_type": "markdown",
   "metadata": {},
   "source": [
    "# <i class=\"fa fa-location-arrow\"></i> GETTING STARTED WITH PYTHON & JUPYTER  <a id='starting'></a>\n",
    "\n",
    "> \"You will have to learn some basic programming concepts before you can do anything. Like a wizard-in-training, you might think these concepts seem arcane and tedious, but with some knowledge and practice, you'll be able to command your computer like a magic wand to perform incredible feats.\" \n",
    ">\n",
    "> Al Sweigart, [*Automate the Boring Stuff with Python*](https://automatetheboringstuff.com)\n",
    "\n",
    "If this is the first time programming, you should not expect to complete this notebook with a high level of mastery. You will likely have to move on to new content before you feel truly comfortable with this fundamental content. *That's perfectly normal*. Instead of getting stuck here, you should continue with the course material and revisit this material as needed. You will become more comfortable with it over time. \n",
    "\n",
    "## Interactive Computing & Project Jupyter\n",
    "\n",
    "![](img/jupyter.png)\n",
    "\n",
    "As described on the syllabus, you should already have Anaconda Python 3.7 installed on your laptop. If so, you will also have Jupyter Installed. We will take a bit of time to make sure everyone has the software installed properly. "
   ]
  },
  {
   "cell_type": "markdown",
   "metadata": {},
   "source": [
    "## Installation \n",
    "\n",
    "1. Download the [Python 3.7 Anaconda Distribution](https://www.anaconda.com/distribution/) for your operating system \n",
    "2. Install Anaconda. \n",
    "3. Make yourself some tea or coffee ☕️\n",
    "\n",
    "Many of the additional packages we will use in this course will be installed with the Anaconda distribution. Others can be installed quickly as we encounter them in the course materials. The easiest way to do this is by executing a system command from your Jupyter notebook itself. For example, the code block below uses `pip` to install a package called `seaborn`. "
   ]
  },
  {
   "cell_type": "code",
   "execution_count": null,
   "metadata": {},
   "outputs": [],
   "source": [
    "!pip install seaborn"
   ]
  },
  {
   "cell_type": "markdown",
   "metadata": {},
   "source": [
    "Once you have installed Anaconda Python 3.7, we can start programming!"
   ]
  },
  {
   "cell_type": "markdown",
   "metadata": {},
   "source": [
    "# <i class=\"fa fa-location-arrow\"></i> SIMPLE DATA TYPES, VARIABLES, AND ASSIGNMENT <a id='datatypes'></a>\n",
    "\n",
    "Every value in Python has a single data type. The key data types to know are **integers** (e.g. `42`), **floats** (e.g. `42.0`), and **strings** (e.g. `'The Hitchhiker's Guide to the Galaxy'`, `'cats are the best'`, and `'The Night Manager'`)."
   ]
  },
  {
   "cell_type": "code",
   "execution_count": 50,
   "metadata": {},
   "outputs": [
    {
     "data": {
      "text/plain": [
       "4"
      ]
     },
     "execution_count": 50,
     "metadata": {},
     "output_type": "execute_result"
    }
   ],
   "source": [
    "2 + 2"
   ]
  },
  {
   "cell_type": "code",
   "execution_count": 51,
   "metadata": {},
   "outputs": [
    {
     "data": {
      "text/plain": [
       "18"
      ]
     },
     "execution_count": 51,
     "metadata": {},
     "output_type": "execute_result"
    }
   ],
   "source": [
    "2 * 9 "
   ]
  },
  {
   "cell_type": "code",
   "execution_count": 52,
   "metadata": {},
   "outputs": [
    {
     "data": {
      "text/plain": [
       "5.0"
      ]
     },
     "execution_count": 52,
     "metadata": {},
     "output_type": "execute_result"
    }
   ],
   "source": [
    "10 / 2"
   ]
  },
  {
   "cell_type": "code",
   "execution_count": 53,
   "metadata": {},
   "outputs": [
    {
     "data": {
      "text/plain": [
       "64"
      ]
     },
     "execution_count": 53,
     "metadata": {},
     "output_type": "execute_result"
    }
   ],
   "source": [
    "2 ** 6"
   ]
  },
  {
   "cell_type": "code",
   "execution_count": 54,
   "metadata": {},
   "outputs": [
    {
     "data": {
      "text/plain": [
       "65"
      ]
     },
     "execution_count": 54,
     "metadata": {},
     "output_type": "execute_result"
    }
   ],
   "source": [
    "2 + 9 * 7"
   ]
  },
  {
   "cell_type": "markdown",
   "metadata": {},
   "source": [
    "We can store data in 'variables' by 'assignment', indicated by the `=` operator. We can call variables anything we want, provided (1) we only use one word; (2) we only use numbers, letters, and the underscore character (`_`); (3) we don't start the name with a number; and (4) we do not use any special words that are reserved for Python itself (e.g. `class`). My advice is to use descriptive names for your variables (e.g. if the variable stores a string of your last name, call it `last_name`, not `ln`). "
   ]
  },
  {
   "cell_type": "code",
   "execution_count": 55,
   "metadata": {},
   "outputs": [
    {
     "name": "stdout",
     "output_type": "stream",
     "text": [
      "16\n"
     ]
    }
   ],
   "source": [
    "a_number = 16\n",
    "print(a_number)"
   ]
  },
  {
   "cell_type": "code",
   "execution_count": 56,
   "metadata": {},
   "outputs": [
    {
     "data": {
      "text/plain": [
       "256"
      ]
     },
     "execution_count": 56,
     "metadata": {},
     "output_type": "execute_result"
    }
   ],
   "source": [
    "a_number * a_number"
   ]
  },
  {
   "cell_type": "code",
   "execution_count": 57,
   "metadata": {},
   "outputs": [
    {
     "name": "stdout",
     "output_type": "stream",
     "text": [
      "Cologne\n",
      "Germany\n",
      "Cologne Germany\n"
     ]
    }
   ],
   "source": [
    "city = 'Cologne'\n",
    "country = 'Germany'\n",
    "\n",
    "print(city)\n",
    "print(country)\n",
    "print(city, country)"
   ]
  },
  {
   "cell_type": "markdown",
   "metadata": {},
   "source": [
    "## <font color=\"crimson\"><i class=\"fa fa-user\"></i> YOUR TURN!</font>\n",
    "\n",
    "Integers, floating points, and strings are three basic data types in Python. In the cell below, (1) assign your instituional affiliation to a variable called `affiliation`, (2) assign your first name to a variable called `first_name`, and (3) assign your last name to a variable called `last_name`. "
   ]
  },
  {
   "cell_type": "code",
   "execution_count": 58,
   "metadata": {},
   "outputs": [],
   "source": [
    "# Your Answer Here \n",
    "\n",
    "\n",
    "\n"
   ]
  },
  {
   "cell_type": "markdown",
   "metadata": {},
   "source": [
    "As you know from the previous examples, the `+` operator will add two numbers together if the data types are integers or floats. However, if the data types are strings, `+` will perform string concatenation. "
   ]
  },
  {
   "cell_type": "code",
   "execution_count": 59,
   "metadata": {},
   "outputs": [
    {
     "data": {
      "text/plain": [
       "'CologneGermany'"
      ]
     },
     "execution_count": 59,
     "metadata": {},
     "output_type": "execute_result"
    }
   ],
   "source": [
    "city + country"
   ]
  },
  {
   "cell_type": "code",
   "execution_count": 60,
   "metadata": {},
   "outputs": [
    {
     "data": {
      "text/plain": [
       "'Cologne, Germany'"
      ]
     },
     "execution_count": 60,
     "metadata": {},
     "output_type": "execute_result"
    }
   ],
   "source": [
    "city + ', ' + country"
   ]
  },
  {
   "cell_type": "code",
   "execution_count": 61,
   "metadata": {},
   "outputs": [
    {
     "name": "stdout",
     "output_type": "stream",
     "text": [
      "Cologne is the fourth-most populous city in Germany\n"
     ]
    }
   ],
   "source": [
    "print(city + ' is the fourth-most populous city in ' + country)"
   ]
  },
  {
   "cell_type": "code",
   "execution_count": 62,
   "metadata": {},
   "outputs": [
    {
     "name": "stdout",
     "output_type": "stream",
     "text": [
      "Cologne is the fourth-most populous city in Germany.\n"
     ]
    }
   ],
   "source": [
    "print(\"{} is the fourth-most populous city in {}.\".format(city, country))"
   ]
  },
  {
   "cell_type": "code",
   "execution_count": 63,
   "metadata": {},
   "outputs": [
    {
     "name": "stdout",
     "output_type": "stream",
     "text": [
      "GESIS (at The Leibniz Institute for the Social Sciences) is in Cologne, Germany. Cologne is the fourth-most populous city in Germany.\n"
     ]
    }
   ],
   "source": [
    "print(\"GESIS (at The Leibniz Institute for the Social Sciences) is in {0}, {1}. {0} is the fourth-most populous city in {1}.\".format(city, country))"
   ]
  },
  {
   "cell_type": "code",
   "execution_count": 64,
   "metadata": {},
   "outputs": [
    {
     "data": {
      "text/plain": [
       "7"
      ]
     },
     "execution_count": 64,
     "metadata": {},
     "output_type": "execute_result"
    }
   ],
   "source": [
    "len(country)"
   ]
  },
  {
   "cell_type": "code",
   "execution_count": 65,
   "metadata": {},
   "outputs": [
    {
     "name": "stdout",
     "output_type": "stream",
     "text": [
      "Cologne 7\n"
     ]
    }
   ],
   "source": [
    "print(city, len(city))"
   ]
  },
  {
   "cell_type": "code",
   "execution_count": 66,
   "metadata": {},
   "outputs": [
    {
     "name": "stdout",
     "output_type": "stream",
     "text": [
      "Germany 7\n"
     ]
    }
   ],
   "source": [
    "print(country, len(country))"
   ]
  },
  {
   "cell_type": "markdown",
   "metadata": {},
   "source": [
    "If we mix data types in an expression using the `+` operator, Python will throw an error, because it can't add an integer or float and a string, and it can't concatenate a string and an integer or float. "
   ]
  },
  {
   "cell_type": "code",
   "execution_count": 67,
   "metadata": {},
   "outputs": [
    {
     "ename": "TypeError",
     "evalue": "must be str, not int",
     "output_type": "error",
     "traceback": [
      "\u001b[0;31m---------------------------------------------------------------------------\u001b[0m",
      "\u001b[0;31mTypeError\u001b[0m                                 Traceback (most recent call last)",
      "\u001b[0;32m<ipython-input-67-b09c8125073a>\u001b[0m in \u001b[0;36m<module>\u001b[0;34m\u001b[0m\n\u001b[0;32m----> 1\u001b[0;31m \u001b[0mcity\u001b[0m \u001b[0;34m+\u001b[0m \u001b[0;36m42\u001b[0m\u001b[0;34m\u001b[0m\u001b[0;34m\u001b[0m\u001b[0m\n\u001b[0m",
      "\u001b[0;31mTypeError\u001b[0m: must be str, not int"
     ]
    }
   ],
   "source": [
    "city + 42"
   ]
  },
  {
   "cell_type": "code",
   "execution_count": 68,
   "metadata": {},
   "outputs": [
    {
     "data": {
      "text/plain": [
       "'CologneCologneCologne'"
      ]
     },
     "execution_count": 68,
     "metadata": {},
     "output_type": "execute_result"
    }
   ],
   "source": [
    "city * 3"
   ]
  },
  {
   "cell_type": "markdown",
   "metadata": {},
   "source": [
    "There are quite a lot of things we can do to strings in Python. If you want to learn a bit more about string manipulation right now, you can consult [Chapter 6: Manipulating Strings](https://automatetheboringstuff.com/chapter6/) from *Automate the Boring Stuff*. Alternatively, you can wait. We will introduce various methods for string manipulation throughout the course. "
   ]
  },
  {
   "cell_type": "markdown",
   "metadata": {},
   "source": [
    "# <i class=\"fa fa-location-arrow\"></i> FLOW CONTROL AND CONDITIONALS <a id='conditional'></a>\n",
    "\n",
    "We have already seen how to tell our computer to execute individual instructions, such as evaluate the expression `2 + 2`. Most of the time, however, we don't want our computer to simply execute a series of individual instructions one after the other. Instead, we want to be able to tell our computer to execute instructions *depending on some condition*. This is 'flow control'. \n",
    "\n",
    "Flow control statements usually include a 'condition' (which evaluates to a Boolean value: True or False) and are followed by a 'clause' which is an indented block of code to execute depending on the Boolean value of the condition.\n",
    "\n",
    "Let's make this less abstract with a simple example. \n",
    "\n",
    "The cell below executes a simple `if` control flow statement. First, it prompts you to enter the name of this course into a box. Then it executes the statement. In the cell below the code block, translate this control flow statement into plain English. "
   ]
  },
  {
   "cell_type": "code",
   "execution_count": 69,
   "metadata": {},
   "outputs": [
    {
     "name": "stdout",
     "output_type": "stream",
     "text": [
      "Please type the name of this course into the box below. \n",
      "Course: \n",
      "🙄 🤔\n"
     ]
    }
   ],
   "source": [
    "print('Please type the name of this course into the box below. ')\n",
    "course = input(\"Course: \")\n",
    "\n",
    "if course == 'Fundamentals of Data Analysis with Python':\n",
    "    print('Welcome to the course!')\n",
    "elif course == 'A Practical Introduction to Machine Learning in Python':\n",
    "    print('You are in the wrong course! That course starts next week.')\n",
    "elif course == 'Social Network Analysis with Digital Behavioural Data':\n",
    "    print('You are in the wrong course! That course starts in two weeks.')\n",
    "else:\n",
    "    print('🙄 🤔')"
   ]
  },
  {
   "cell_type": "markdown",
   "metadata": {},
   "source": [
    "## <font color=\"crimson\"><i class=\"fa fa-user\"></i> YOUR TURN!</font> \n",
    "\n",
    "The cell below executes a simple `while` control flow statement. In the cell below the code block, translate this control flow statement into English (or another language you are comfortable with). "
   ]
  },
  {
   "cell_type": "code",
   "execution_count": 70,
   "metadata": {},
   "outputs": [
    {
     "name": "stdout",
     "output_type": "stream",
     "text": [
      "It's Day 1. The course is still in progress.\n",
      "It's Day 2. The course is still in progress.\n",
      "It's Day 3. The course is still in progress.\n",
      "It's Day 4. The course is still in progress.\n",
      "It's Day 5. The course is still in progress.\n",
      "\n",
      "The course is \"complete\". Congratulations!\n"
     ]
    }
   ],
   "source": [
    "day = 1\n",
    "\n",
    "while day <= 5:\n",
    "    print(\"It's Day {}. The course is still in progress.\".format(day))\n",
    "    day = day + 1\n",
    "\n",
    "print('\\nThe course is \"complete\". Congratulations!')"
   ]
  },
  {
   "cell_type": "code",
   "execution_count": 71,
   "metadata": {},
   "outputs": [
    {
     "name": "stdout",
     "output_type": "stream",
     "text": [
      "Welcome\n",
      "Its Day 1\n",
      "Its Day 2\n",
      "Its Day 3\n",
      "Its Day 4\n",
      "Its Day 5\n"
     ]
    }
   ],
   "source": [
    "days = [1, 2, 3, 4, 5]\n",
    "\n",
    "for turtle in days:\n",
    "    if turtle == 1:\n",
    "        print(\"Welcome\")\n",
    "    \n",
    "    print('Its Day {}'.format(turtle))    "
   ]
  },
  {
   "cell_type": "markdown",
   "metadata": {},
   "source": [
    "### Your Answer Here \n",
    "\n",
    "I think the for loop does ... \n"
   ]
  },
  {
   "cell_type": "markdown",
   "metadata": {},
   "source": [
    "# <i class=\"fa fa-location-arrow\"></i> FUNCTIONS <a id='functions'></a>\n",
    "\n",
    "So far we have used a few functions that are built in to Python, such as `print()` and `len()`. We can also write our own functions, which let us execute small chunks of code. Writing our own functions is a very powerful way of compartmentalizing and organizing our code. \n",
    "\n",
    "User-defined functions can be as simple or as complex as we like (although you should strive to design functions that are **as simple as possible**). For example, the following cell defines a function called `welcome()`, which accepts a name and extends a welcome greeting. "
   ]
  },
  {
   "cell_type": "code",
   "execution_count": 72,
   "metadata": {},
   "outputs": [],
   "source": [
    "def welcome(name):\n",
    "    print('Hello, {}. Welcome to Fundamentals of Data Analysis with Python!'.format(name))"
   ]
  },
  {
   "cell_type": "code",
   "execution_count": 73,
   "metadata": {},
   "outputs": [
    {
     "name": "stdout",
     "output_type": "stream",
     "text": [
      "Hello, Miyoko. Welcome to Fundamentals of Data Analysis with Python!\n"
     ]
    }
   ],
   "source": [
    "welcome('Miyoko')"
   ]
  },
  {
   "cell_type": "markdown",
   "metadata": {},
   "source": [
    "We will introduce more sophisticated functions throughout the course. For now, we want to make just a few quick points about developing functions. \n",
    "\n",
    "First, you should always start by thinking carefully about what problem you are trying to solve. In the process, you may realized that what you thought was one problem is actually several related small problems. As you think things through, decompose the big problems into smaller problems, and think about how those problems relate to one another. \n",
    "\n",
    "Second, it is usually a good idea to start by writing \"[pseudocode](https://en.wikipedia.org/wiki/Pseudocode)\", which is a bit like starting a writing project (e.g. a journal article) with an outline. Doing this will carefully and thoughtfully will result in much better code, and frankly better data analysis. \n",
    "\n",
    "Third, in a data collection, cleaning, and analysis context, you will likely be doing a fair amount of exploratory work at the start of a new project. While I don't presume to speak for anyone else, I find it helpful to be doing this open ended exploration **at the same time** as I think through the problems I need to solve in a data analysis. I usually do this in a Jupyter Notebook (like this one) while I write notes in a text file or a physical notebook. I develop functions and refactor my code later, when I have a clear sense of what I want to do and how it should to be done. To continue the writing analogy, this is a bit like figuring out what your idea or argument is by doing free writing, developing an outline as your thinking evolves. Then, at some point, you open a new file and start writing cleaner more structured text. "
   ]
  },
  {
   "cell_type": "markdown",
   "metadata": {},
   "source": [
    "## <font color=\"crimson\"><i class=\"fa fa-user\"></i> YOUR TURN!</font>\n",
    "\n",
    "In the cell below the code block, translate the function `welcome_message()` into English or another language you speak. How does the returned string change depending on the values passed into the function?"
   ]
  },
  {
   "cell_type": "code",
   "execution_count": 74,
   "metadata": {},
   "outputs": [],
   "source": [
    "def welcome_message(name, course):\n",
    "    \"\"\"\n",
    "    What does this function do?\n",
    "    \n",
    "    What to input?\n",
    "\n",
    "        - first thing is here\n",
    "        - second thing is here \n",
    "        \n",
    "    Returns: Here's what you will get in return. \n",
    "    \"\"\"\n",
    "    if course == 'fundamentals':\n",
    "        msg = 'Hello {}, welcome to Fundamentals of Data Analysis with Python.'.format(name)\n",
    "    elif course == 'machine_learning':\n",
    "        msg = 'Hello {}, welcome to A Practical Introduction to Machine Learning in Python.'.format(name)\n",
    "    elif course == 'networks':\n",
    "        msg = 'Hello {}, welcome to Social Network Analysis with Digital Behavioral Data.'.format(name)\n",
    "    else:\n",
    "        msg = 'Sorry, I think you might be in the wrong course.'\n",
    "    \n",
    "    return msg"
   ]
  },
  {
   "cell_type": "code",
   "execution_count": 75,
   "metadata": {},
   "outputs": [
    {
     "name": "stdout",
     "output_type": "stream",
     "text": [
      "Hello Karamo, welcome to Fundamentals of Data Analysis with Python.\n"
     ]
    }
   ],
   "source": [
    "welcome = welcome_message('Karamo', 'fundamentals')\n",
    "print(welcome)"
   ]
  },
  {
   "cell_type": "markdown",
   "metadata": {},
   "source": [
    "# <i class=\"fa fa-location-arrow\"></i> LISTS, TUPLES, AND DICTIONARIES <a id='lts'></a>"
   ]
  },
  {
   "cell_type": "markdown",
   "metadata": {},
   "source": [
    "This section covers slightly more complex data structures: `lists`, `tuples`, and `sets`. Let's start with `lists`. \n",
    "\n",
    "## Lists\n",
    "\n",
    "`lists` can contain multiple values in an ordered sequence, such as `['fundamentals', 'of', 'data', 'analysis', 'with', 'python']`, `['GESIS', 'Leibniz Institute for Social Sciences']`, or `['42', '77', 'mix', 'data', 'types', 42, 77]`. "
   ]
  },
  {
   "cell_type": "code",
   "execution_count": 76,
   "metadata": {},
   "outputs": [],
   "source": [
    "course = ['fundamentals', 'of', 'data', 'analysis', 'with', 'python']"
   ]
  },
  {
   "cell_type": "code",
   "execution_count": 77,
   "metadata": {},
   "outputs": [
    {
     "data": {
      "text/plain": [
       "['fundamentals', 'of', 'data', 'analysis', 'with', 'python']"
      ]
     },
     "execution_count": 77,
     "metadata": {},
     "output_type": "execute_result"
    }
   ],
   "source": [
    "course"
   ]
  },
  {
   "cell_type": "code",
   "execution_count": 78,
   "metadata": {},
   "outputs": [
    {
     "data": {
      "text/plain": [
       "'fundamentals of data analysis with python'"
      ]
     },
     "execution_count": 78,
     "metadata": {},
     "output_type": "execute_result"
    }
   ],
   "source": [
    "course_joined = \" \".join(course)\n",
    "course_joined"
   ]
  },
  {
   "cell_type": "code",
   "execution_count": 79,
   "metadata": {},
   "outputs": [
    {
     "data": {
      "text/plain": [
       "['fundamentals', 'of', 'data', 'analysis', 'with', 'python']"
      ]
     },
     "execution_count": 79,
     "metadata": {},
     "output_type": "execute_result"
    }
   ],
   "source": [
    "course_split = course_joined.split(\" \")\n",
    "course_split"
   ]
  },
  {
   "cell_type": "code",
   "execution_count": 80,
   "metadata": {},
   "outputs": [
    {
     "data": {
      "text/plain": [
       "True"
      ]
     },
     "execution_count": 80,
     "metadata": {},
     "output_type": "execute_result"
    }
   ],
   "source": [
    "course == course_split"
   ]
  },
  {
   "cell_type": "code",
   "execution_count": 81,
   "metadata": {},
   "outputs": [
    {
     "name": "stdout",
     "output_type": "stream",
     "text": [
      "There are 6 words in the course title.\n"
     ]
    }
   ],
   "source": [
    "print('There are {} words in the course title.'.format(len(course)))"
   ]
  },
  {
   "cell_type": "code",
   "execution_count": 82,
   "metadata": {},
   "outputs": [
    {
     "name": "stdout",
     "output_type": "stream",
     "text": [
      "fundamentals\n",
      "of\n",
      "data\n",
      "analysis\n",
      "with\n",
      "python\n"
     ]
    }
   ],
   "source": [
    "for turtle in course:\n",
    "    print(turtle)"
   ]
  },
  {
   "cell_type": "code",
   "execution_count": 83,
   "metadata": {},
   "outputs": [
    {
     "data": {
      "text/plain": [
       "'fundamentals'"
      ]
     },
     "execution_count": 83,
     "metadata": {},
     "output_type": "execute_result"
    }
   ],
   "source": [
    "course[0]"
   ]
  },
  {
   "cell_type": "code",
   "execution_count": 84,
   "metadata": {},
   "outputs": [
    {
     "data": {
      "text/plain": [
       "'of'"
      ]
     },
     "execution_count": 84,
     "metadata": {},
     "output_type": "execute_result"
    }
   ],
   "source": [
    "course[1]"
   ]
  },
  {
   "cell_type": "code",
   "execution_count": 85,
   "metadata": {},
   "outputs": [
    {
     "data": {
      "text/plain": [
       "'data'"
      ]
     },
     "execution_count": 85,
     "metadata": {},
     "output_type": "execute_result"
    }
   ],
   "source": [
    "course[2]"
   ]
  },
  {
   "cell_type": "code",
   "execution_count": 86,
   "metadata": {},
   "outputs": [
    {
     "data": {
      "text/plain": [
       "'analysis'"
      ]
     },
     "execution_count": 86,
     "metadata": {},
     "output_type": "execute_result"
    }
   ],
   "source": [
    "course[3]"
   ]
  },
  {
   "cell_type": "code",
   "execution_count": 87,
   "metadata": {},
   "outputs": [
    {
     "data": {
      "text/plain": [
       "'with'"
      ]
     },
     "execution_count": 87,
     "metadata": {},
     "output_type": "execute_result"
    }
   ],
   "source": [
    "course[4]"
   ]
  },
  {
   "cell_type": "code",
   "execution_count": 88,
   "metadata": {},
   "outputs": [
    {
     "data": {
      "text/plain": [
       "'python'"
      ]
     },
     "execution_count": 88,
     "metadata": {},
     "output_type": "execute_result"
    }
   ],
   "source": [
    "course[5]"
   ]
  },
  {
   "cell_type": "code",
   "execution_count": 89,
   "metadata": {},
   "outputs": [
    {
     "data": {
      "text/plain": [
       "'python'"
      ]
     },
     "execution_count": 89,
     "metadata": {},
     "output_type": "execute_result"
    }
   ],
   "source": [
    "course[-1]"
   ]
  },
  {
   "cell_type": "code",
   "execution_count": 90,
   "metadata": {},
   "outputs": [
    {
     "data": {
      "text/plain": [
       "'with'"
      ]
     },
     "execution_count": 90,
     "metadata": {},
     "output_type": "execute_result"
    }
   ],
   "source": [
    "course[-2]"
   ]
  },
  {
   "cell_type": "code",
   "execution_count": 91,
   "metadata": {},
   "outputs": [
    {
     "name": "stdout",
     "output_type": "stream",
     "text": [
      "fundamentals\n",
      "of\n",
      "data\n",
      "analysis\n",
      "with\n",
      "python\n"
     ]
    }
   ],
   "source": [
    "for i in range(len(course)):\n",
    "    print(course[i])"
   ]
  },
  {
   "cell_type": "code",
   "execution_count": 92,
   "metadata": {},
   "outputs": [],
   "source": [
    "course.append('John McLevey')\n",
    "course.append('Jillian Anderson')\n",
    "course.append('GESIS')"
   ]
  },
  {
   "cell_type": "code",
   "execution_count": 93,
   "metadata": {},
   "outputs": [
    {
     "data": {
      "text/plain": [
       "['fundamentals',\n",
       " 'of',\n",
       " 'data',\n",
       " 'analysis',\n",
       " 'with',\n",
       " 'python',\n",
       " 'John McLevey',\n",
       " 'Jillian Anderson',\n",
       " 'GESIS']"
      ]
     },
     "execution_count": 93,
     "metadata": {},
     "output_type": "execute_result"
    }
   ],
   "source": [
    "course"
   ]
  },
  {
   "cell_type": "code",
   "execution_count": 94,
   "metadata": {},
   "outputs": [
    {
     "data": {
      "text/plain": [
       "['John McLevey', 'Jillian Anderson', 'GESIS']"
      ]
     },
     "execution_count": 94,
     "metadata": {},
     "output_type": "execute_result"
    }
   ],
   "source": [
    "course[6:]"
   ]
  },
  {
   "cell_type": "code",
   "execution_count": 95,
   "metadata": {},
   "outputs": [
    {
     "data": {
      "text/plain": [
       "'Jillian Anderson'"
      ]
     },
     "execution_count": 95,
     "metadata": {},
     "output_type": "execute_result"
    }
   ],
   "source": [
    "course[-2]"
   ]
  },
  {
   "cell_type": "code",
   "execution_count": 96,
   "metadata": {},
   "outputs": [
    {
     "data": {
      "text/plain": [
       "8"
      ]
     },
     "execution_count": 96,
     "metadata": {},
     "output_type": "execute_result"
    }
   ],
   "source": [
    "course.index('GESIS')"
   ]
  },
  {
   "cell_type": "markdown",
   "metadata": {},
   "source": [
    "## <font color=\"crimson\"><i class=\"fa fa-user\"></i> YOUR TURN!</font> \n",
    "\n",
    "In the cell below, change the value of `GESIS` to `Leibniz Institute for Social Sciences` in the list `course` using list indices. "
   ]
  },
  {
   "cell_type": "code",
   "execution_count": 97,
   "metadata": {},
   "outputs": [],
   "source": [
    "# Your Answer Here\n",
    "\n",
    "course[8] = 'Leibniz Institute for Social Sciences'\n"
   ]
  },
  {
   "cell_type": "markdown",
   "metadata": {},
   "source": [
    "Let's see if it worked. "
   ]
  },
  {
   "cell_type": "code",
   "execution_count": 98,
   "metadata": {},
   "outputs": [
    {
     "name": "stdout",
     "output_type": "stream",
     "text": [
      "Changed! Well done.\n"
     ]
    }
   ],
   "source": [
    "if 'Leibniz Institute for Social Sciences' in course:\n",
    "    print('Changed! Well done.')\n",
    "else:\n",
    "    print('Not yet. Try again!')"
   ]
  },
  {
   "cell_type": "code",
   "execution_count": 99,
   "metadata": {},
   "outputs": [
    {
     "data": {
      "text/plain": [
       "['Canada', 'Germany']"
      ]
     },
     "execution_count": 99,
     "metadata": {},
     "output_type": "execute_result"
    }
   ],
   "source": [
    "countries = ['Canada', 'Germany']\n",
    "countries"
   ]
  },
  {
   "cell_type": "markdown",
   "metadata": {},
   "source": [
    "It is also possible to store lists inside of lists.  "
   ]
  },
  {
   "cell_type": "code",
   "execution_count": 100,
   "metadata": {},
   "outputs": [
    {
     "data": {
      "text/plain": [
       "[['Canada', 'Germany'], ['University of Waterloo', 'Leibniz Institute']]"
      ]
     },
     "execution_count": 100,
     "metadata": {},
     "output_type": "execute_result"
    }
   ],
   "source": [
    "# who0 = ['University of Waterloo', 'Leibniz Institute']\n",
    "who = [countries, ['University of Waterloo', 'Leibniz Institute']]\n",
    "who"
   ]
  },
  {
   "cell_type": "code",
   "execution_count": 101,
   "metadata": {},
   "outputs": [
    {
     "name": "stdout",
     "output_type": "stream",
     "text": [
      "['Canada', 'Germany']\n",
      "['University of Waterloo', 'Leibniz Institute']\n"
     ]
    }
   ],
   "source": [
    "for each in who:\n",
    "    print(each)"
   ]
  },
  {
   "cell_type": "code",
   "execution_count": 102,
   "metadata": {},
   "outputs": [
    {
     "name": "stdout",
     "output_type": "stream",
     "text": [
      "Canada\n",
      "Germany\n",
      "\n",
      "\n",
      "University of Waterloo\n",
      "Leibniz Institute\n",
      "\n",
      "\n"
     ]
    }
   ],
   "source": [
    "for each in who:\n",
    "    for value in each:\n",
    "        print(value)\n",
    "    print('\\n')"
   ]
  },
  {
   "cell_type": "markdown",
   "metadata": {},
   "source": [
    "## Tuples\n",
    "\n",
    "`tuples` are very similar to `lists` except that they are 'immutable' (can't be changed) and values are stored in between `()` rather than `[]`. \n",
    "\n",
    "In other words, we can modify the values of a `list` because `lists` are mutable (can be changed). We can't modify the values of a `tuple`, because `tuples` are immutable. Using tuples can speed up your code considerably."
   ]
  },
  {
   "cell_type": "code",
   "execution_count": 103,
   "metadata": {},
   "outputs": [
    {
     "data": {
      "text/plain": [
       "['fundamentals',\n",
       " 'of',\n",
       " 'data',\n",
       " 'analysis',\n",
       " 'with',\n",
       " 'python',\n",
       " 'John McLevey',\n",
       " 'Jillian Anderson',\n",
       " 'Leibniz Institute for Social Sciences']"
      ]
     },
     "execution_count": 103,
     "metadata": {},
     "output_type": "execute_result"
    }
   ],
   "source": [
    "course_list = course.copy()\n",
    "course_list"
   ]
  },
  {
   "cell_type": "code",
   "execution_count": 104,
   "metadata": {},
   "outputs": [
    {
     "data": {
      "text/plain": [
       "('fundamentals',\n",
       " 'of',\n",
       " 'data',\n",
       " 'analysis',\n",
       " 'with',\n",
       " 'python',\n",
       " 'John McLevey',\n",
       " 'Jillian Anderson',\n",
       " 'Leibniz Institute for Social Sciences')"
      ]
     },
     "execution_count": 104,
     "metadata": {},
     "output_type": "execute_result"
    }
   ],
   "source": [
    "course_tuple = tuple(course)\n",
    "course_tuple"
   ]
  },
  {
   "cell_type": "code",
   "execution_count": 105,
   "metadata": {},
   "outputs": [
    {
     "data": {
      "text/plain": [
       "['Jillian Anderson',\n",
       " 'John McLevey',\n",
       " 'Leibniz Institute for Social Sciences',\n",
       " 'analysis',\n",
       " 'data',\n",
       " 'fundamentals',\n",
       " 'of',\n",
       " 'python',\n",
       " 'with']"
      ]
     },
     "execution_count": 105,
     "metadata": {},
     "output_type": "execute_result"
    }
   ],
   "source": [
    "course_list.sort()\n",
    "course_list"
   ]
  },
  {
   "cell_type": "code",
   "execution_count": 106,
   "metadata": {},
   "outputs": [
    {
     "data": {
      "text/plain": [
       "['with',\n",
       " 'python',\n",
       " 'of',\n",
       " 'fundamentals',\n",
       " 'data',\n",
       " 'analysis',\n",
       " 'Leibniz Institute for Social Sciences',\n",
       " 'John McLevey',\n",
       " 'Jillian Anderson']"
      ]
     },
     "execution_count": 106,
     "metadata": {},
     "output_type": "execute_result"
    }
   ],
   "source": [
    "course_list.sort(reverse=True)\n",
    "course_list"
   ]
  },
  {
   "cell_type": "code",
   "execution_count": 107,
   "metadata": {},
   "outputs": [
    {
     "ename": "AttributeError",
     "evalue": "'tuple' object has no attribute 'sort'",
     "output_type": "error",
     "traceback": [
      "\u001b[0;31m---------------------------------------------------------------------------\u001b[0m",
      "\u001b[0;31mAttributeError\u001b[0m                            Traceback (most recent call last)",
      "\u001b[0;32m<ipython-input-107-559bcfe1ef95>\u001b[0m in \u001b[0;36m<module>\u001b[0;34m\u001b[0m\n\u001b[0;32m----> 1\u001b[0;31m \u001b[0mcourse_tuple\u001b[0m\u001b[0;34m.\u001b[0m\u001b[0msort\u001b[0m\u001b[0;34m(\u001b[0m\u001b[0;34m)\u001b[0m\u001b[0;34m\u001b[0m\u001b[0;34m\u001b[0m\u001b[0m\n\u001b[0m\u001b[1;32m      2\u001b[0m \u001b[0mcourse_tuple\u001b[0m\u001b[0;34m\u001b[0m\u001b[0;34m\u001b[0m\u001b[0m\n",
      "\u001b[0;31mAttributeError\u001b[0m: 'tuple' object has no attribute 'sort'"
     ]
    }
   ],
   "source": [
    "course_tuple.sort()\n",
    "course_tuple"
   ]
  },
  {
   "cell_type": "code",
   "execution_count": 124,
   "metadata": {},
   "outputs": [
    {
     "data": {
      "text/plain": [
       "['fundamentals',\n",
       " 'of',\n",
       " 'data',\n",
       " 'analysis',\n",
       " 'with',\n",
       " 'python',\n",
       " 'John McLevey',\n",
       " 'Jillian Anderson',\n",
       " 'Leibniz Institute for Social Sciences']"
      ]
     },
     "execution_count": 124,
     "metadata": {},
     "output_type": "execute_result"
    }
   ],
   "source": [
    "list(course_tuple)"
   ]
  },
  {
   "cell_type": "markdown",
   "metadata": {},
   "source": [
    "# Dictionaries\n",
    "\n",
    "`Dictionaries` are a flexible way to organize data. `Dictionaries` contain `key`-`value` pairs. For example, the following `dictionary` contains information about Simon Fraser University, where Jillian currently works as a data engineer. The `keys` are then name of the university, the province, the country, the cities with of main and sattalite campuses, and the number of enrolled students in 2015. "
   ]
  },
  {
   "cell_type": "code",
   "execution_count": 108,
   "metadata": {},
   "outputs": [],
   "source": [
    "uni1 = {\n",
    "    'name': 'Simon Fraser University',\n",
    "    'province': 'British Columbia',\n",
    "    'country': 'Canada',\n",
    "    'cities': ['Burnaby', 'Surrey', 'Vancouver'],\n",
    "    '2015enrollments': 34990\n",
    "}"
   ]
  },
  {
   "cell_type": "code",
   "execution_count": 109,
   "metadata": {},
   "outputs": [
    {
     "data": {
      "text/plain": [
       "{'name': 'Simon Fraser University',\n",
       " 'province': 'British Columbia',\n",
       " 'country': 'Canada',\n",
       " 'cities': ['Burnaby', 'Surrey', 'Vancouver'],\n",
       " '2015enrollments': 34990}"
      ]
     },
     "execution_count": 109,
     "metadata": {},
     "output_type": "execute_result"
    }
   ],
   "source": [
    "uni1"
   ]
  },
  {
   "cell_type": "code",
   "execution_count": 110,
   "metadata": {},
   "outputs": [
    {
     "data": {
      "text/plain": [
       "['Burnaby', 'Surrey', 'Vancouver']"
      ]
     },
     "execution_count": 110,
     "metadata": {},
     "output_type": "execute_result"
    }
   ],
   "source": [
    "uni1['cities']"
   ]
  },
  {
   "cell_type": "code",
   "execution_count": 111,
   "metadata": {},
   "outputs": [
    {
     "data": {
      "text/plain": [
       "34990"
      ]
     },
     "execution_count": 111,
     "metadata": {},
     "output_type": "execute_result"
    }
   ],
   "source": [
    "uni1['2015enrollments']"
   ]
  },
  {
   "cell_type": "code",
   "execution_count": 112,
   "metadata": {},
   "outputs": [
    {
     "name": "stdout",
     "output_type": "stream",
     "text": [
      "Burnaby\n",
      "Surrey\n",
      "Vancouver\n"
     ]
    }
   ],
   "source": [
    "for city in uni1['cities']:\n",
    "    print(city)"
   ]
  },
  {
   "cell_type": "code",
   "execution_count": 127,
   "metadata": {},
   "outputs": [
    {
     "name": "stdout",
     "output_type": "stream",
     "text": [
      "Simon Fraser University\n",
      "British Columbia\n",
      "Canada\n",
      "['Burnaby', 'Surrey', 'Vancouver']\n",
      "34990\n"
     ]
    }
   ],
   "source": [
    "for k in uni1:\n",
    "    print(uni1[k])\n",
    "    #print(k)"
   ]
  },
  {
   "cell_type": "code",
   "execution_count": 114,
   "metadata": {},
   "outputs": [
    {
     "name": "stdout",
     "output_type": "stream",
     "text": [
      "Simon Fraser University\n",
      "British Columbia\n",
      "Canada\n",
      "['Burnaby', 'Surrey', 'Vancouver']\n",
      "34990\n"
     ]
    }
   ],
   "source": [
    "for k, v in uni1.items():\n",
    "    print(v)"
   ]
  },
  {
   "cell_type": "code",
   "execution_count": 128,
   "metadata": {},
   "outputs": [
    {
     "name": "stdout",
     "output_type": "stream",
     "text": [
      "Simon Fraser University\n",
      "British Columbia\n",
      "Canada\n",
      "['Burnaby', 'Surrey', 'Vancouver']\n",
      "34990\n"
     ]
    }
   ],
   "source": [
    "for each in uni1.values():\n",
    "    print(each)"
   ]
  },
  {
   "cell_type": "markdown",
   "metadata": {},
   "source": [
    "As you can see, we can use `lists` inside of `dictionaries` and `lists` inside other `lists`, we can have `dictionaries` inside `lists` and even `dictionaries` inside of other `dictionaries`. Combining data structures this way enables us to model the real world in powerful and flexible ways. \n",
    "\n",
    "Here's another dict with information about the University of Waterloo, where John works. The keys are the same as the previous dict. "
   ]
  },
  {
   "cell_type": "code",
   "execution_count": 129,
   "metadata": {},
   "outputs": [],
   "source": [
    "uni2 = {\n",
    "    'name': 'University of Waterloo',\n",
    "    'province': 'Ontario',\n",
    "    'country': 'Canada',\n",
    "    'cities': ['Waterloo', 'Kitchener', 'Stratford', 'Cambridge'],\n",
    "    '2015enrollments': 36670\n",
    "}"
   ]
  },
  {
   "cell_type": "markdown",
   "metadata": {},
   "source": [
    "We can add our two dicts to a list, or another data structure. "
   ]
  },
  {
   "cell_type": "code",
   "execution_count": 130,
   "metadata": {},
   "outputs": [],
   "source": [
    "universities = [uni1, uni2]"
   ]
  },
  {
   "cell_type": "code",
   "execution_count": 131,
   "metadata": {},
   "outputs": [
    {
     "data": {
      "text/plain": [
       "[{'name': 'Simon Fraser University',\n",
       "  'province': 'British Columbia',\n",
       "  'country': 'Canada',\n",
       "  'cities': ['Burnaby', 'Surrey', 'Vancouver'],\n",
       "  '2015enrollments': 34990},\n",
       " {'name': 'University of Waterloo',\n",
       "  'province': 'Ontario',\n",
       "  'country': 'Canada',\n",
       "  'cities': ['Waterloo', 'Kitchener', 'Stratford', 'Cambridge'],\n",
       "  '2015enrollments': 36670}]"
      ]
     },
     "execution_count": 131,
     "metadata": {},
     "output_type": "execute_result"
    }
   ],
   "source": [
    "universities"
   ]
  },
  {
   "cell_type": "code",
   "execution_count": 133,
   "metadata": {},
   "outputs": [
    {
     "name": "stdout",
     "output_type": "stream",
     "text": [
      "Simon Fraser University British Columbia Canada\n",
      "University of Waterloo Ontario Canada\n"
     ]
    }
   ],
   "source": [
    "for uni in universities:\n",
    "    print(uni['name'], uni['province'], uni['country'])"
   ]
  },
  {
   "cell_type": "markdown",
   "metadata": {},
   "source": [
    "## <font color=\"crimson\"><i class=\"fa fa-user\"></i> YOUR TURN!</font> \n",
    "\n",
    "In the cell below, (1) create a dictionary called `me` with the following `keys`: 'first_name', 'last_name', 'discipline' (e.g. political science), 'research_interests',  and 'programming_experience_level'. Enter the correct values. Once you have created this dictionary, (2) print each value to the screen using a for loop. "
   ]
  },
  {
   "cell_type": "code",
   "execution_count": 120,
   "metadata": {},
   "outputs": [],
   "source": [
    "# Your Answer Here \n",
    "\n"
   ]
  },
  {
   "cell_type": "markdown",
   "metadata": {},
   "source": [
    "Creating an empty `Dictionary` & adding new values to the dictionary. "
   ]
  },
  {
   "cell_type": "code",
   "execution_count": 151,
   "metadata": {},
   "outputs": [
    {
     "data": {
      "text/plain": [
       "{}"
      ]
     },
     "execution_count": 151,
     "metadata": {},
     "output_type": "execute_result"
    }
   ],
   "source": [
    "# New Dictionary\n",
    "my_dictionary = {}\n",
    "my_dictionary['name'] = 'Jillian'"
   ]
  },
  {
   "cell_type": "code",
   "execution_count": 152,
   "metadata": {},
   "outputs": [],
   "source": [
    "# Adding Values\n",
    "my_dictionary['name'] = 'Jillian'"
   ]
  },
  {
   "cell_type": "code",
   "execution_count": 153,
   "metadata": {},
   "outputs": [
    {
     "data": {
      "text/plain": [
       "{'name': 'Jillian'}"
      ]
     },
     "execution_count": 153,
     "metadata": {},
     "output_type": "execute_result"
    }
   ],
   "source": [
    "my_dictionary"
   ]
  },
  {
   "cell_type": "markdown",
   "metadata": {},
   "source": [
    "## List Comprehension"
   ]
  },
  {
   "cell_type": "code",
   "execution_count": 142,
   "metadata": {},
   "outputs": [
    {
     "data": {
      "text/plain": [
       "['this', 'is', 'a', 'list']"
      ]
     },
     "execution_count": 142,
     "metadata": {},
     "output_type": "execute_result"
    }
   ],
   "source": [
    "a_new_list = ['this', 'is', 'a', 'list']\n",
    "a_new_list"
   ]
  },
  {
   "cell_type": "code",
   "execution_count": 140,
   "metadata": {},
   "outputs": [],
   "source": [
    "another_list = []\n",
    "for each in a_new_list:\n",
    "    another_list.append(each)"
   ]
  },
  {
   "cell_type": "code",
   "execution_count": 141,
   "metadata": {},
   "outputs": [
    {
     "data": {
      "text/plain": [
       "['this', 'is', 'a', 'list']"
      ]
     },
     "execution_count": 141,
     "metadata": {},
     "output_type": "execute_result"
    }
   ],
   "source": [
    "another_list"
   ]
  },
  {
   "cell_type": "code",
   "execution_count": 145,
   "metadata": {},
   "outputs": [
    {
     "data": {
      "text/plain": [
       "['thisthisthis', 'isisis', 'aaa', 'listlistlist']"
      ]
     },
     "execution_count": 145,
     "metadata": {},
     "output_type": "execute_result"
    }
   ],
   "source": [
    "another_list = [each*3 for each in a_new_list]\n",
    "another_list"
   ]
  },
  {
   "cell_type": "code",
   "execution_count": 148,
   "metadata": {},
   "outputs": [
    {
     "data": {
      "text/plain": [
       "['this', 'list']"
      ]
     },
     "execution_count": 148,
     "metadata": {},
     "output_type": "execute_result"
    }
   ],
   "source": [
    "another_list = []\n",
    "for each in a_new_list:\n",
    "    if len(each) > 3:\n",
    "        another_list.append(each)\n",
    "another_list"
   ]
  },
  {
   "cell_type": "code",
   "execution_count": 146,
   "metadata": {},
   "outputs": [
    {
     "data": {
      "text/plain": [
       "['this', 'list']"
      ]
     },
     "execution_count": 146,
     "metadata": {},
     "output_type": "execute_result"
    }
   ],
   "source": [
    "another_list = [each for each in a_new_list if len(each)>3]\n",
    "another_list"
   ]
  },
  {
   "cell_type": "markdown",
   "metadata": {},
   "source": [
    "# Open Work Time <a id='open'></a>\n",
    "\n",
    "1. Write a function that multiplies two integers and returns the value. \n",
    "\n",
    "2. Write a function that concatenates two strings, computes the length of the new string, and returns that length as an integer. Write a print statement that prints 'The length of the string is {}' and replaces the `{}` with the length value. \n",
    "\n",
    "3. Use the cell below to write a function that accepts a list as and returns a string with the elements joined with an `_`. Then write another function that accepts a string with `_` and returns a list with elements created from a string split on `_`. \n",
    "\n",
    "4. Write a function that accepts two lists, one containing a set of keys (e.g. name, university) and the other a set of values ('John', 'UW'). Return a dictionary with the keys from the first list and the values from the second list. "
   ]
  },
  {
   "cell_type": "code",
   "execution_count": null,
   "metadata": {},
   "outputs": [],
   "source": [
    "my_dictionary = {}\n",
    "my_dictionary['name'] = 'Jillian'"
   ]
  },
  {
   "cell_type": "code",
   "execution_count": 149,
   "metadata": {},
   "outputs": [
    {
     "data": {
      "text/plain": [
       "'A STRING'"
      ]
     },
     "execution_count": 149,
     "metadata": {},
     "output_type": "execute_result"
    }
   ],
   "source": [
    "'a string'.upper()"
   ]
  },
  {
   "cell_type": "code",
   "execution_count": 150,
   "metadata": {},
   "outputs": [
    {
     "data": {
      "text/plain": [
       "'another string'"
      ]
     },
     "execution_count": 150,
     "metadata": {},
     "output_type": "execute_result"
    }
   ],
   "source": [
    "'ANOTHER STRING'.lower()"
   ]
  },
  {
   "cell_type": "code",
   "execution_count": 154,
   "metadata": {},
   "outputs": [],
   "source": [
    "zip?"
   ]
  },
  {
   "cell_type": "markdown",
   "metadata": {},
   "source": [
    "# NOTES TO ADD\n",
    "\n",
    "* you can't use words that have meaning to Python to name a variable. I.e. don't call something \"dict\" or \"list\"\n",
    "* dict(zip(l1,l2)\n",
    "* crazy index approach "
   ]
  },
  {
   "cell_type": "code",
   "execution_count": null,
   "metadata": {},
   "outputs": [],
   "source": []
  }
 ],
 "metadata": {
  "kernelspec": {
   "display_name": "Python 3",
   "language": "python",
   "name": "python3"
  },
  "language_info": {
   "codemirror_mode": {
    "name": "ipython",
    "version": 3
   },
   "file_extension": ".py",
   "mimetype": "text/x-python",
   "name": "python",
   "nbconvert_exporter": "python",
   "pygments_lexer": "ipython3",
   "version": "3.6.9"
  }
 },
 "nbformat": 4,
 "nbformat_minor": 4
}
